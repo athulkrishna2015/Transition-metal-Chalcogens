{
 "cells": [
  {
   "cell_type": "code",
   "execution_count": 1,
   "metadata": {
    "colab": {
     "base_uri": "https://localhost:8080/"
    },
    "executionInfo": {
     "elapsed": 6697,
     "status": "ok",
     "timestamp": 1652202023665,
     "user": {
      "displayName": "Athul Krishna",
      "userId": "17952052837509004747"
     },
     "user_tz": -330
    },
    "id": "j6Kj64z9hkMu",
    "outputId": "913883e9-33fc-400b-c778-5db074b5fcc5"
   },
   "outputs": [],
   "source": [
    "# !pip install CBFV\n",
    "# # !pip install pandas-Profiling -U"
   ]
  },
  {
   "cell_type": "code",
   "execution_count": 2,
   "metadata": {
    "executionInfo": {
     "elapsed": 1295,
     "status": "ok",
     "timestamp": 1652202024937,
     "user": {
      "displayName": "Athul Krishna",
      "userId": "17952052837509004747"
     },
     "user_tz": -330
    },
    "id": "U8ZgDyZXgW8V"
   },
   "outputs": [],
   "source": [
    "import os\n",
    "import pandas as pd\n",
    "# from pandas_profiling import ProfileReport\n",
    "from sklearn.preprocessing import StandardScaler\n",
    "# from sklearn.preprocessing import normalize\n",
    "\n",
    "from CBFV.composition import generate_features"
   ]
  },
  {
   "cell_type": "code",
   "execution_count": 3,
   "metadata": {
    "colab": {
     "base_uri": "https://localhost:8080/"
    },
    "executionInfo": {
     "elapsed": 27959,
     "status": "ok",
     "timestamp": 1652202052886,
     "user": {
      "displayName": "Athul Krishna",
      "userId": "17952052837509004747"
     },
     "user_tz": -330
    },
    "id": "bKZydfaRfrdo",
    "outputId": "84cba7c0-a362-4a8b-b611-7d4c26f3add3"
   },
   "outputs": [],
   "source": [
    "# from google.colab import drive\n",
    "# drive.mount('/content/drive')"
   ]
  },
  {
   "cell_type": "code",
   "execution_count": 4,
   "metadata": {},
   "outputs": [],
   "source": [
    "i = ''"
   ]
  },
  {
   "cell_type": "code",
   "execution_count": 5,
   "metadata": {
    "executionInfo": {
     "elapsed": 1960,
     "status": "ok",
     "timestamp": 1652202054836,
     "user": {
      "displayName": "Athul Krishna",
      "userId": "17952052837509004747"
     },
     "user_tz": -330
    },
    "id": "Bg8I004QfbKL"
   },
   "outputs": [
    {
     "ename": "FileNotFoundError",
     "evalue": "[Errno 2] No such file or directory: '../save_model/_oliynyk_ExtraTreesRegressor_full_HPO.joblib'",
     "output_type": "error",
     "traceback": [
      "\u001b[0;31m---------------------------------------------------------------------------\u001b[0m",
      "\u001b[0;31mFileNotFoundError\u001b[0m                         Traceback (most recent call last)",
      "\u001b[1;32m/run/media/athul/0946E88701BE265B/2D/4/4-prediction_Natom.ipynb Cell 5'\u001b[0m in \u001b[0;36m<cell line: 3>\u001b[0;34m()\u001b[0m\n\u001b[1;32m      <a href='vscode-notebook-cell:/run/media/athul/0946E88701BE265B/2D/4/4-prediction_Natom.ipynb#ch0000004?line=0'>1</a>\u001b[0m \u001b[39mfrom\u001b[39;00m \u001b[39mjoblib\u001b[39;00m \u001b[39mimport\u001b[39;00m dump, load\n\u001b[1;32m      <a href='vscode-notebook-cell:/run/media/athul/0946E88701BE265B/2D/4/4-prediction_Natom.ipynb#ch0000004?line=1'>2</a>\u001b[0m \u001b[39m#load model\u001b[39;00m\n\u001b[0;32m----> <a href='vscode-notebook-cell:/run/media/athul/0946E88701BE265B/2D/4/4-prediction_Natom.ipynb#ch0000004?line=2'>3</a>\u001b[0m model \u001b[39m=\u001b[39m load(\u001b[39mf\u001b[39;49m\u001b[39m'\u001b[39;49m\u001b[39m../save_model/\u001b[39;49m\u001b[39m{\u001b[39;49;00mi\u001b[39m}\u001b[39;49;00m\u001b[39m_oliynyk_ExtraTreesRegressor_full_HPO.joblib\u001b[39;49m\u001b[39m'\u001b[39;49m)\n",
      "File \u001b[0;32m~/miniconda3/envs/project/lib/python3.9/site-packages/joblib/numpy_pickle.py:579\u001b[0m, in \u001b[0;36mload\u001b[0;34m(filename, mmap_mode)\u001b[0m\n\u001b[1;32m    <a href='file:///home/athul/miniconda3/envs/project/lib/python3.9/site-packages/joblib/numpy_pickle.py?line=576'>577</a>\u001b[0m         obj \u001b[39m=\u001b[39m _unpickle(fobj)\n\u001b[1;32m    <a href='file:///home/athul/miniconda3/envs/project/lib/python3.9/site-packages/joblib/numpy_pickle.py?line=577'>578</a>\u001b[0m \u001b[39melse\u001b[39;00m:\n\u001b[0;32m--> <a href='file:///home/athul/miniconda3/envs/project/lib/python3.9/site-packages/joblib/numpy_pickle.py?line=578'>579</a>\u001b[0m     \u001b[39mwith\u001b[39;00m \u001b[39mopen\u001b[39;49m(filename, \u001b[39m'\u001b[39;49m\u001b[39mrb\u001b[39;49m\u001b[39m'\u001b[39;49m) \u001b[39mas\u001b[39;00m f:\n\u001b[1;32m    <a href='file:///home/athul/miniconda3/envs/project/lib/python3.9/site-packages/joblib/numpy_pickle.py?line=579'>580</a>\u001b[0m         \u001b[39mwith\u001b[39;00m _read_fileobject(f, filename, mmap_mode) \u001b[39mas\u001b[39;00m fobj:\n\u001b[1;32m    <a href='file:///home/athul/miniconda3/envs/project/lib/python3.9/site-packages/joblib/numpy_pickle.py?line=580'>581</a>\u001b[0m             \u001b[39mif\u001b[39;00m \u001b[39misinstance\u001b[39m(fobj, \u001b[39mstr\u001b[39m):\n\u001b[1;32m    <a href='file:///home/athul/miniconda3/envs/project/lib/python3.9/site-packages/joblib/numpy_pickle.py?line=581'>582</a>\u001b[0m                 \u001b[39m# if the returned file object is a string, this means we\u001b[39;00m\n\u001b[1;32m    <a href='file:///home/athul/miniconda3/envs/project/lib/python3.9/site-packages/joblib/numpy_pickle.py?line=582'>583</a>\u001b[0m                 \u001b[39m# try to load a pickle file generated with an version of\u001b[39;00m\n\u001b[1;32m    <a href='file:///home/athul/miniconda3/envs/project/lib/python3.9/site-packages/joblib/numpy_pickle.py?line=583'>584</a>\u001b[0m                 \u001b[39m# Joblib so we load it with joblib compatibility function.\u001b[39;00m\n",
      "\u001b[0;31mFileNotFoundError\u001b[0m: [Errno 2] No such file or directory: '../save_model/_oliynyk_ExtraTreesRegressor_full_HPO.joblib'"
     ]
    }
   ],
   "source": [
    "from joblib import dump, load\n",
    "#load model\n",
    "model = load(f'../save_model/{i}_oliynyk_ExtraTreesRegressor_full_HPO.joblib') "
   ]
  },
  {
   "cell_type": "code",
   "execution_count": null,
   "metadata": {
    "colab": {
     "base_uri": "https://localhost:8080/"
    },
    "executionInfo": {
     "elapsed": 28327,
     "status": "ok",
     "timestamp": 1652202442972,
     "user": {
      "displayName": "Athul Krishna",
      "userId": "17952052837509004747"
     },
     "user_tz": -330
    },
    "id": "gmiznUS7w67O",
    "outputId": "e1b5aa60-a67a-4fe5-e8a4-05758658d41d"
   },
   "outputs": [
    {
     "name": "stdout",
     "output_type": "stream",
     "text": [
      "Traceback (most recent call last):\n",
      "  File \"Metal_chal_all.py\", line 73, in <module>\n",
      "    for n4 in range(6):\n",
      "KeyboardInterrupt\n"
     ]
    }
   ],
   "source": [
    "# !python Metal_chal_all.py > '/content/drive/MyDrive/jupyter/2D/data/Metal_chal_all.csv'"
   ]
  },
  {
   "cell_type": "code",
   "execution_count": null,
   "metadata": {
    "colab": {
     "base_uri": "https://localhost:8080/",
     "height": 394
    },
    "executionInfo": {
     "elapsed": 31,
     "status": "error",
     "timestamp": 1652202442975,
     "user": {
      "displayName": "Athul Krishna",
      "userId": "17952052837509004747"
     },
     "user_tz": -330
    },
    "id": "WvzqPfNbgFR6",
    "outputId": "6b544631-48ad-4d19-f575-1e4d3ea187f4"
   },
   "outputs": [
    {
     "data": {
      "text/html": [
       "<div>\n",
       "<style scoped>\n",
       "    .dataframe tbody tr th:only-of-type {\n",
       "        vertical-align: middle;\n",
       "    }\n",
       "\n",
       "    .dataframe tbody tr th {\n",
       "        vertical-align: top;\n",
       "    }\n",
       "\n",
       "    .dataframe thead th {\n",
       "        text-align: right;\n",
       "    }\n",
       "</style>\n",
       "<table border=\"1\" class=\"dataframe\">\n",
       "  <thead>\n",
       "    <tr style=\"text-align: right;\">\n",
       "      <th></th>\n",
       "      <th>ScO</th>\n",
       "    </tr>\n",
       "  </thead>\n",
       "  <tbody>\n",
       "    <tr>\n",
       "      <th>0</th>\n",
       "      <td>ScS</td>\n",
       "    </tr>\n",
       "    <tr>\n",
       "      <th>1</th>\n",
       "      <td>ScSe</td>\n",
       "    </tr>\n",
       "    <tr>\n",
       "      <th>2</th>\n",
       "      <td>ScTe</td>\n",
       "    </tr>\n",
       "    <tr>\n",
       "      <th>3</th>\n",
       "      <td>YO</td>\n",
       "    </tr>\n",
       "    <tr>\n",
       "      <th>4</th>\n",
       "      <td>YS</td>\n",
       "    </tr>\n",
       "    <tr>\n",
       "      <th>...</th>\n",
       "      <td>...</td>\n",
       "    </tr>\n",
       "    <tr>\n",
       "      <th>4490</th>\n",
       "      <td>Cd2Te</td>\n",
       "    </tr>\n",
       "    <tr>\n",
       "      <th>4491</th>\n",
       "      <td>Hg2O</td>\n",
       "    </tr>\n",
       "    <tr>\n",
       "      <th>4492</th>\n",
       "      <td>Hg2S</td>\n",
       "    </tr>\n",
       "    <tr>\n",
       "      <th>4493</th>\n",
       "      <td>Hg2Se</td>\n",
       "    </tr>\n",
       "    <tr>\n",
       "      <th>4494</th>\n",
       "      <td>Hg2Te</td>\n",
       "    </tr>\n",
       "  </tbody>\n",
       "</table>\n",
       "<p>4495 rows × 1 columns</p>\n",
       "</div>"
      ],
      "text/plain": [
       "        ScO\n",
       "0       ScS\n",
       "1      ScSe\n",
       "2      ScTe\n",
       "3        YO\n",
       "4        YS\n",
       "...     ...\n",
       "4490  Cd2Te\n",
       "4491   Hg2O\n",
       "4492   Hg2S\n",
       "4493  Hg2Se\n",
       "4494  Hg2Te\n",
       "\n",
       "[4495 rows x 1 columns]"
      ]
     },
     "execution_count": 7,
     "metadata": {},
     "output_type": "execute_result"
    }
   ],
   "source": [
    "PATH = os.getcwd()\n",
    "data_path = os.path.join(PATH, '../test/M2Xn.csv')\n",
    "df = pd.read_csv(data_path)\n",
    "\n",
    "df"
   ]
  },
  {
   "cell_type": "code",
   "execution_count": null,
   "metadata": {
    "id": "JVQSyJNLnWct"
   },
   "outputs": [],
   "source": [
    "# profile = ProfileReport(df, title=\"Pandas Profiling Report\")\n",
    "# profile.to_notebook_iframe()\n"
   ]
  },
  {
   "cell_type": "code",
   "execution_count": null,
   "metadata": {
    "colab": {
     "base_uri": "https://localhost:8080/",
     "height": 206
    },
    "executionInfo": {
     "elapsed": 71,
     "status": "ok",
     "timestamp": 1652163543643,
     "user": {
      "displayName": "Athul Krishna",
      "userId": "17952052837509004747"
     },
     "user_tz": -330
    },
    "id": "xz515HadgJeD",
    "outputId": "ced8d364-ced9-4781-f12e-014df848f4dd"
   },
   "outputs": [
    {
     "data": {
      "text/html": [
       "<div>\n",
       "<style scoped>\n",
       "    .dataframe tbody tr th:only-of-type {\n",
       "        vertical-align: middle;\n",
       "    }\n",
       "\n",
       "    .dataframe tbody tr th {\n",
       "        vertical-align: top;\n",
       "    }\n",
       "\n",
       "    .dataframe thead th {\n",
       "        text-align: right;\n",
       "    }\n",
       "</style>\n",
       "<table border=\"1\" class=\"dataframe\">\n",
       "  <thead>\n",
       "    <tr style=\"text-align: right;\">\n",
       "      <th></th>\n",
       "      <th>formula</th>\n",
       "      <th>target</th>\n",
       "    </tr>\n",
       "  </thead>\n",
       "  <tbody>\n",
       "    <tr>\n",
       "      <th>0</th>\n",
       "      <td>ScS</td>\n",
       "      <td>0</td>\n",
       "    </tr>\n",
       "    <tr>\n",
       "      <th>1</th>\n",
       "      <td>ScSe</td>\n",
       "      <td>0</td>\n",
       "    </tr>\n",
       "    <tr>\n",
       "      <th>2</th>\n",
       "      <td>ScTe</td>\n",
       "      <td>0</td>\n",
       "    </tr>\n",
       "    <tr>\n",
       "      <th>3</th>\n",
       "      <td>YO</td>\n",
       "      <td>0</td>\n",
       "    </tr>\n",
       "    <tr>\n",
       "      <th>4</th>\n",
       "      <td>YS</td>\n",
       "      <td>0</td>\n",
       "    </tr>\n",
       "  </tbody>\n",
       "</table>\n",
       "</div>"
      ],
      "text/plain": [
       "  formula  target\n",
       "0     ScS       0\n",
       "1    ScSe       0\n",
       "2    ScTe       0\n",
       "3      YO       0\n",
       "4      YS       0"
      ]
     },
     "execution_count": 9,
     "metadata": {},
     "output_type": "execute_result"
    }
   ],
   "source": [
    "df['target'] = 0\n",
    "# df.head()\n",
    "df.columns = ['formula','target']\n",
    "df.head()"
   ]
  },
  {
   "cell_type": "code",
   "execution_count": null,
   "metadata": {
    "colab": {
     "base_uri": "https://localhost:8080/"
    },
    "executionInfo": {
     "elapsed": 68,
     "status": "ok",
     "timestamp": 1652163543645,
     "user": {
      "displayName": "Athul Krishna",
      "userId": "17952052837509004747"
     },
     "user_tz": -330
    },
    "id": "J1xTV_5cjXGD",
    "outputId": "98baf9a3-ea5d-47f6-c262-267bbeddd365"
   },
   "outputs": [
    {
     "name": "stderr",
     "output_type": "stream",
     "text": [
      "Processing Input Data: 100%|█████████████| 4495/4495 [00:00<00:00, 23010.78it/s]\n"
     ]
    },
    {
     "name": "stdout",
     "output_type": "stream",
     "text": [
      "\tFeaturizing Compositions...\n"
     ]
    },
    {
     "name": "stderr",
     "output_type": "stream",
     "text": [
      "Assigning Features...: 100%|█████████████| 4495/4495 [00:00<00:00, 10917.80it/s]\n"
     ]
    },
    {
     "name": "stdout",
     "output_type": "stream",
     "text": [
      "\tCreating Pandas Objects...\n"
     ]
    }
   ],
   "source": [
    "X_unscaled, y, formulae, skipped = generate_features(df, elem_prop='oliynyk', drop_duplicates=False, extend_features=False, sum_feat=True)"
   ]
  },
  {
   "cell_type": "code",
   "execution_count": null,
   "metadata": {
    "id": "w-D6LvwTmd8I"
   },
   "outputs": [],
   "source": [
    "scaler = StandardScaler()\n",
    "\n",
    "X = scaler.fit_transform(X_unscaled)"
   ]
  },
  {
   "cell_type": "code",
   "execution_count": null,
   "metadata": {
    "id": "eDLgXQaLrlhG"
   },
   "outputs": [],
   "source": [
    "y_predict = model.predict(X)\n",
    "# y_predict"
   ]
  },
  {
   "cell_type": "code",
   "execution_count": null,
   "metadata": {
    "colab": {
     "base_uri": "https://localhost:8080/",
     "height": 424
    },
    "executionInfo": {
     "elapsed": 16,
     "status": "ok",
     "timestamp": 1652163544094,
     "user": {
      "displayName": "Athul Krishna",
      "userId": "17952052837509004747"
     },
     "user_tz": -330
    },
    "id": "8haXbx67satf",
    "outputId": "9c8bdac1-4a01-4b33-eb1e-584795b0d86f"
   },
   "outputs": [
    {
     "data": {
      "text/html": [
       "<div>\n",
       "<style scoped>\n",
       "    .dataframe tbody tr th:only-of-type {\n",
       "        vertical-align: middle;\n",
       "    }\n",
       "\n",
       "    .dataframe tbody tr th {\n",
       "        vertical-align: top;\n",
       "    }\n",
       "\n",
       "    .dataframe thead th {\n",
       "        text-align: right;\n",
       "    }\n",
       "</style>\n",
       "<table border=\"1\" class=\"dataframe\">\n",
       "  <thead>\n",
       "    <tr style=\"text-align: right;\">\n",
       "      <th></th>\n",
       "      <th>formula</th>\n",
       "      <th>target</th>\n",
       "    </tr>\n",
       "  </thead>\n",
       "  <tbody>\n",
       "    <tr>\n",
       "      <th>299</th>\n",
       "      <td>Sc2O3</td>\n",
       "      <td>4.028173</td>\n",
       "    </tr>\n",
       "    <tr>\n",
       "      <th>408</th>\n",
       "      <td>Sc2O2S1</td>\n",
       "      <td>3.543863</td>\n",
       "    </tr>\n",
       "    <tr>\n",
       "      <th>410</th>\n",
       "      <td>Sc2O2Se1</td>\n",
       "      <td>3.509095</td>\n",
       "    </tr>\n",
       "    <tr>\n",
       "      <th>303</th>\n",
       "      <td>Y2O3</td>\n",
       "      <td>3.453342</td>\n",
       "    </tr>\n",
       "    <tr>\n",
       "      <th>307</th>\n",
       "      <td>La2O3</td>\n",
       "      <td>3.298392</td>\n",
       "    </tr>\n",
       "    <tr>\n",
       "      <th>...</th>\n",
       "      <td>...</td>\n",
       "      <td>...</td>\n",
       "    </tr>\n",
       "    <tr>\n",
       "      <th>571</th>\n",
       "      <td>Tc2S1Te2</td>\n",
       "      <td>0.382552</td>\n",
       "    </tr>\n",
       "    <tr>\n",
       "      <th>583</th>\n",
       "      <td>Re2S1Te2</td>\n",
       "      <td>0.376253</td>\n",
       "    </tr>\n",
       "    <tr>\n",
       "      <th>1332</th>\n",
       "      <td>Re2S1Se1Te2</td>\n",
       "      <td>0.372752</td>\n",
       "    </tr>\n",
       "    <tr>\n",
       "      <th>586</th>\n",
       "      <td>Re2Se2Te1</td>\n",
       "      <td>0.364703</td>\n",
       "    </tr>\n",
       "    <tr>\n",
       "      <th>585</th>\n",
       "      <td>Re2Se1Te2</td>\n",
       "      <td>0.330571</td>\n",
       "    </tr>\n",
       "  </tbody>\n",
       "</table>\n",
       "<p>4495 rows × 2 columns</p>\n",
       "</div>"
      ],
      "text/plain": [
       "          formula    target\n",
       "299         Sc2O3  4.028173\n",
       "408       Sc2O2S1  3.543863\n",
       "410      Sc2O2Se1  3.509095\n",
       "303          Y2O3  3.453342\n",
       "307         La2O3  3.298392\n",
       "...           ...       ...\n",
       "571      Tc2S1Te2  0.382552\n",
       "583      Re2S1Te2  0.376253\n",
       "1332  Re2S1Se1Te2  0.372752\n",
       "586     Re2Se2Te1  0.364703\n",
       "585     Re2Se1Te2  0.330571\n",
       "\n",
       "[4495 rows x 2 columns]"
      ]
     },
     "execution_count": 13,
     "metadata": {},
     "output_type": "execute_result"
    }
   ],
   "source": [
    "df['target'] = y_predict\n",
    "df.sort_values(by=['target'], ascending=False)"
   ]
  },
  {
   "cell_type": "code",
   "execution_count": null,
   "metadata": {},
   "outputs": [],
   "source": [
    "df.columns = ['formula',i]"
   ]
  },
  {
   "cell_type": "code",
   "execution_count": null,
   "metadata": {
    "id": "GgJEmS7wsuE6"
   },
   "outputs": [],
   "source": [
    "# out_path = os.path.join(PATH, '../predict/MnXn.csv')\n",
    "# df.to_csv(out_path, index=False)"
   ]
  },
  {
   "cell_type": "code",
   "execution_count": null,
   "metadata": {},
   "outputs": [],
   "source": [
    "df0 = pd.read_csv('../predict/MnXn.csv')"
   ]
  },
  {
   "cell_type": "code",
   "execution_count": null,
   "metadata": {},
   "outputs": [],
   "source": [
    "df3 = pd.concat([df0,df[df.columns[1]]],axis =1)"
   ]
  },
  {
   "cell_type": "code",
   "execution_count": null,
   "metadata": {},
   "outputs": [
    {
     "data": {
      "text/html": [
       "<div>\n",
       "<style scoped>\n",
       "    .dataframe tbody tr th:only-of-type {\n",
       "        vertical-align: middle;\n",
       "    }\n",
       "\n",
       "    .dataframe tbody tr th {\n",
       "        vertical-align: top;\n",
       "    }\n",
       "\n",
       "    .dataframe thead th {\n",
       "        text-align: right;\n",
       "    }\n",
       "</style>\n",
       "<table border=\"1\" class=\"dataframe\">\n",
       "  <thead>\n",
       "    <tr style=\"text-align: right;\">\n",
       "      <th></th>\n",
       "      <th>formula</th>\n",
       "      <th>gap</th>\n",
       "    </tr>\n",
       "  </thead>\n",
       "  <tbody>\n",
       "    <tr>\n",
       "      <th>0</th>\n",
       "      <td>ScS</td>\n",
       "      <td>2.331315</td>\n",
       "    </tr>\n",
       "    <tr>\n",
       "      <th>1</th>\n",
       "      <td>ScSe</td>\n",
       "      <td>2.200840</td>\n",
       "    </tr>\n",
       "    <tr>\n",
       "      <th>2</th>\n",
       "      <td>ScTe</td>\n",
       "      <td>1.519909</td>\n",
       "    </tr>\n",
       "    <tr>\n",
       "      <th>3</th>\n",
       "      <td>YO</td>\n",
       "      <td>2.840632</td>\n",
       "    </tr>\n",
       "    <tr>\n",
       "      <th>4</th>\n",
       "      <td>YS</td>\n",
       "      <td>2.157874</td>\n",
       "    </tr>\n",
       "    <tr>\n",
       "      <th>...</th>\n",
       "      <td>...</td>\n",
       "      <td>...</td>\n",
       "    </tr>\n",
       "    <tr>\n",
       "      <th>4490</th>\n",
       "      <td>Cd2Te</td>\n",
       "      <td>1.397719</td>\n",
       "    </tr>\n",
       "    <tr>\n",
       "      <th>4491</th>\n",
       "      <td>Hg2O</td>\n",
       "      <td>1.010924</td>\n",
       "    </tr>\n",
       "    <tr>\n",
       "      <th>4492</th>\n",
       "      <td>Hg2S</td>\n",
       "      <td>0.911060</td>\n",
       "    </tr>\n",
       "    <tr>\n",
       "      <th>4493</th>\n",
       "      <td>Hg2Se</td>\n",
       "      <td>0.915490</td>\n",
       "    </tr>\n",
       "    <tr>\n",
       "      <th>4494</th>\n",
       "      <td>Hg2Te</td>\n",
       "      <td>1.035561</td>\n",
       "    </tr>\n",
       "  </tbody>\n",
       "</table>\n",
       "<p>4495 rows × 2 columns</p>\n",
       "</div>"
      ],
      "text/plain": [
       "     formula       gap\n",
       "0        ScS  2.331315\n",
       "1       ScSe  2.200840\n",
       "2       ScTe  1.519909\n",
       "3         YO  2.840632\n",
       "4         YS  2.157874\n",
       "...      ...       ...\n",
       "4490   Cd2Te  1.397719\n",
       "4491    Hg2O  1.010924\n",
       "4492    Hg2S  0.911060\n",
       "4493   Hg2Se  0.915490\n",
       "4494   Hg2Te  1.035561\n",
       "\n",
       "[4495 rows x 2 columns]"
      ]
     },
     "execution_count": 33,
     "metadata": {},
     "output_type": "execute_result"
    }
   ],
   "source": [
    "df3"
   ]
  },
  {
   "cell_type": "code",
   "execution_count": null,
   "metadata": {},
   "outputs": [],
   "source": [
    "out_path = os.path.join(PATH, '../predict/MnXn.csv')\n",
    "df3.to_csv(out_path, index=False)"
   ]
  },
  {
   "cell_type": "code",
   "execution_count": null,
   "metadata": {},
   "outputs": [],
   "source": []
  }
 ],
 "metadata": {
  "colab": {
   "authorship_tag": "ABX9TyPIOHAIYX92+GMfxNcQ6Ec2",
   "collapsed_sections": [],
   "name": "4-prediction.ipynb",
   "provenance": []
  },
  "interpreter": {
   "hash": "b43b91101fb7361b6ea74e48111b7449281637cecc6b0034541f7043ed3e6d27"
  },
  "kernelspec": {
   "display_name": "Python 3.9.12 ('project')",
   "language": "python",
   "name": "python3"
  },
  "language_info": {
   "codemirror_mode": {
    "name": "ipython",
    "version": 3
   },
   "file_extension": ".py",
   "mimetype": "text/x-python",
   "name": "python",
   "nbconvert_exporter": "python",
   "pygments_lexer": "ipython3",
   "version": "3.9.12"
  }
 },
 "nbformat": 4,
 "nbformat_minor": 4
}
