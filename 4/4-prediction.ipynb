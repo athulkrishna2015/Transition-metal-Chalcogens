{
 "cells": [
  {
   "cell_type": "code",
   "execution_count": 1,
   "metadata": {
    "colab": {
     "base_uri": "https://localhost:8080/"
    },
    "executionInfo": {
     "elapsed": 6697,
     "status": "ok",
     "timestamp": 1652202023665,
     "user": {
      "displayName": "Athul Krishna",
      "userId": "17952052837509004747"
     },
     "user_tz": -330
    },
    "id": "j6Kj64z9hkMu",
    "outputId": "913883e9-33fc-400b-c778-5db074b5fcc5"
   },
   "outputs": [],
   "source": [
    "# !pip install CBFV\n",
    "# # !pip install pandas-Profiling -U"
   ]
  },
  {
   "cell_type": "code",
   "execution_count": 1,
   "metadata": {
    "executionInfo": {
     "elapsed": 1295,
     "status": "ok",
     "timestamp": 1652202024937,
     "user": {
      "displayName": "Athul Krishna",
      "userId": "17952052837509004747"
     },
     "user_tz": -330
    },
    "id": "U8ZgDyZXgW8V"
   },
   "outputs": [],
   "source": [
    "import os\n",
    "import pandas as pd\n",
    "# from pandas_profiling import ProfileReport\n",
    "from sklearn.preprocessing import StandardScaler\n",
    "# from sklearn.preprocessing import normalize\n",
    "\n",
    "from CBFV.composition import generate_features"
   ]
  },
  {
   "cell_type": "code",
   "execution_count": 3,
   "metadata": {
    "colab": {
     "base_uri": "https://localhost:8080/"
    },
    "executionInfo": {
     "elapsed": 27959,
     "status": "ok",
     "timestamp": 1652202052886,
     "user": {
      "displayName": "Athul Krishna",
      "userId": "17952052837509004747"
     },
     "user_tz": -330
    },
    "id": "bKZydfaRfrdo",
    "outputId": "84cba7c0-a362-4a8b-b611-7d4c26f3add3"
   },
   "outputs": [
    {
     "name": "stdout",
     "output_type": "stream",
     "text": [
      "Mounted at /content/drive\n"
     ]
    }
   ],
   "source": [
    "# from google.colab import drive\n",
    "# drive.mount('/content/drive')"
   ]
  },
  {
   "cell_type": "code",
   "execution_count": 2,
   "metadata": {},
   "outputs": [],
   "source": [
    "i = 'gap'"
   ]
  },
  {
   "cell_type": "code",
   "execution_count": 3,
   "metadata": {
    "executionInfo": {
     "elapsed": 1960,
     "status": "ok",
     "timestamp": 1652202054836,
     "user": {
      "displayName": "Athul Krishna",
      "userId": "17952052837509004747"
     },
     "user_tz": -330
    },
    "id": "Bg8I004QfbKL"
   },
   "outputs": [],
   "source": [
    "from joblib import dump, load\n",
    "#load model\n",
    "model = load(f'../save_model/{i}_oliynyk_ExtraTreesRegressor_full_HPO.joblib') "
   ]
  },
  {
   "cell_type": "code",
   "execution_count": 7,
   "metadata": {
    "colab": {
     "base_uri": "https://localhost:8080/"
    },
    "executionInfo": {
     "elapsed": 28327,
     "status": "ok",
     "timestamp": 1652202442972,
     "user": {
      "displayName": "Athul Krishna",
      "userId": "17952052837509004747"
     },
     "user_tz": -330
    },
    "id": "gmiznUS7w67O",
    "outputId": "e1b5aa60-a67a-4fe5-e8a4-05758658d41d"
   },
   "outputs": [
    {
     "name": "stdout",
     "output_type": "stream",
     "text": [
      "Traceback (most recent call last):\n",
      "  File \"Metal_chal_all.py\", line 73, in <module>\n",
      "    for n4 in range(6):\n",
      "KeyboardInterrupt\n"
     ]
    }
   ],
   "source": [
    "# !python Metal_chal_all.py > '/content/drive/MyDrive/jupyter/2D/data/Metal_chal_all.csv'"
   ]
  },
  {
   "cell_type": "code",
   "execution_count": 4,
   "metadata": {
    "colab": {
     "base_uri": "https://localhost:8080/",
     "height": 394
    },
    "executionInfo": {
     "elapsed": 31,
     "status": "error",
     "timestamp": 1652202442975,
     "user": {
      "displayName": "Athul Krishna",
      "userId": "17952052837509004747"
     },
     "user_tz": -330
    },
    "id": "WvzqPfNbgFR6",
    "outputId": "6b544631-48ad-4d19-f575-1e4d3ea187f4"
   },
   "outputs": [
    {
     "data": {
      "text/html": [
       "<div>\n",
       "<style scoped>\n",
       "    .dataframe tbody tr th:only-of-type {\n",
       "        vertical-align: middle;\n",
       "    }\n",
       "\n",
       "    .dataframe tbody tr th {\n",
       "        vertical-align: top;\n",
       "    }\n",
       "\n",
       "    .dataframe thead th {\n",
       "        text-align: right;\n",
       "    }\n",
       "</style>\n",
       "<table border=\"1\" class=\"dataframe\">\n",
       "  <thead>\n",
       "    <tr style=\"text-align: right;\">\n",
       "      <th></th>\n",
       "      <th>formula</th>\n",
       "    </tr>\n",
       "  </thead>\n",
       "  <tbody>\n",
       "    <tr>\n",
       "      <th>0</th>\n",
       "      <td>ScO</td>\n",
       "    </tr>\n",
       "    <tr>\n",
       "      <th>1</th>\n",
       "      <td>ScS</td>\n",
       "    </tr>\n",
       "    <tr>\n",
       "      <th>2</th>\n",
       "      <td>ScSe</td>\n",
       "    </tr>\n",
       "    <tr>\n",
       "      <th>3</th>\n",
       "      <td>ScTe</td>\n",
       "    </tr>\n",
       "    <tr>\n",
       "      <th>4</th>\n",
       "      <td>YO</td>\n",
       "    </tr>\n",
       "    <tr>\n",
       "      <th>...</th>\n",
       "      <td>...</td>\n",
       "    </tr>\n",
       "    <tr>\n",
       "      <th>4491</th>\n",
       "      <td>Cd2Te</td>\n",
       "    </tr>\n",
       "    <tr>\n",
       "      <th>4492</th>\n",
       "      <td>Hg2O</td>\n",
       "    </tr>\n",
       "    <tr>\n",
       "      <th>4493</th>\n",
       "      <td>Hg2S</td>\n",
       "    </tr>\n",
       "    <tr>\n",
       "      <th>4494</th>\n",
       "      <td>Hg2Se</td>\n",
       "    </tr>\n",
       "    <tr>\n",
       "      <th>4495</th>\n",
       "      <td>Hg2Te</td>\n",
       "    </tr>\n",
       "  </tbody>\n",
       "</table>\n",
       "<p>4496 rows × 1 columns</p>\n",
       "</div>"
      ],
      "text/plain": [
       "     formula\n",
       "0        ScO\n",
       "1        ScS\n",
       "2       ScSe\n",
       "3       ScTe\n",
       "4         YO\n",
       "...      ...\n",
       "4491   Cd2Te\n",
       "4492    Hg2O\n",
       "4493    Hg2S\n",
       "4494   Hg2Se\n",
       "4495   Hg2Te\n",
       "\n",
       "[4496 rows x 1 columns]"
      ]
     },
     "execution_count": 4,
     "metadata": {},
     "output_type": "execute_result"
    }
   ],
   "source": [
    "PATH = os.getcwd()\n",
    "data_path = os.path.join(PATH, '../test/M2Xn.csv')\n",
    "df = pd.read_csv(data_path)\n",
    "\n",
    "df"
   ]
  },
  {
   "cell_type": "code",
   "execution_count": 8,
   "metadata": {
    "id": "JVQSyJNLnWct"
   },
   "outputs": [],
   "source": [
    "# profile = ProfileReport(df, title=\"Pandas Profiling Report\")\n",
    "# profile.to_notebook_iframe()\n"
   ]
  },
  {
   "cell_type": "code",
   "execution_count": 5,
   "metadata": {
    "colab": {
     "base_uri": "https://localhost:8080/",
     "height": 206
    },
    "executionInfo": {
     "elapsed": 71,
     "status": "ok",
     "timestamp": 1652163543643,
     "user": {
      "displayName": "Athul Krishna",
      "userId": "17952052837509004747"
     },
     "user_tz": -330
    },
    "id": "xz515HadgJeD",
    "outputId": "ced8d364-ced9-4781-f12e-014df848f4dd"
   },
   "outputs": [
    {
     "data": {
      "text/html": [
       "<div>\n",
       "<style scoped>\n",
       "    .dataframe tbody tr th:only-of-type {\n",
       "        vertical-align: middle;\n",
       "    }\n",
       "\n",
       "    .dataframe tbody tr th {\n",
       "        vertical-align: top;\n",
       "    }\n",
       "\n",
       "    .dataframe thead th {\n",
       "        text-align: right;\n",
       "    }\n",
       "</style>\n",
       "<table border=\"1\" class=\"dataframe\">\n",
       "  <thead>\n",
       "    <tr style=\"text-align: right;\">\n",
       "      <th></th>\n",
       "      <th>formula</th>\n",
       "      <th>target</th>\n",
       "    </tr>\n",
       "  </thead>\n",
       "  <tbody>\n",
       "    <tr>\n",
       "      <th>0</th>\n",
       "      <td>ScO</td>\n",
       "      <td>0</td>\n",
       "    </tr>\n",
       "    <tr>\n",
       "      <th>1</th>\n",
       "      <td>ScS</td>\n",
       "      <td>0</td>\n",
       "    </tr>\n",
       "    <tr>\n",
       "      <th>2</th>\n",
       "      <td>ScSe</td>\n",
       "      <td>0</td>\n",
       "    </tr>\n",
       "    <tr>\n",
       "      <th>3</th>\n",
       "      <td>ScTe</td>\n",
       "      <td>0</td>\n",
       "    </tr>\n",
       "    <tr>\n",
       "      <th>4</th>\n",
       "      <td>YO</td>\n",
       "      <td>0</td>\n",
       "    </tr>\n",
       "  </tbody>\n",
       "</table>\n",
       "</div>"
      ],
      "text/plain": [
       "  formula  target\n",
       "0     ScO       0\n",
       "1     ScS       0\n",
       "2    ScSe       0\n",
       "3    ScTe       0\n",
       "4      YO       0"
      ]
     },
     "execution_count": 5,
     "metadata": {},
     "output_type": "execute_result"
    }
   ],
   "source": [
    "df['target'] = 0\n",
    "# df.head()\n",
    "df.columns = ['formula','target']\n",
    "df.head()"
   ]
  },
  {
   "cell_type": "code",
   "execution_count": 6,
   "metadata": {
    "colab": {
     "base_uri": "https://localhost:8080/"
    },
    "executionInfo": {
     "elapsed": 68,
     "status": "ok",
     "timestamp": 1652163543645,
     "user": {
      "displayName": "Athul Krishna",
      "userId": "17952052837509004747"
     },
     "user_tz": -330
    },
    "id": "J1xTV_5cjXGD",
    "outputId": "98baf9a3-ea5d-47f6-c262-267bbeddd365"
   },
   "outputs": [
    {
     "name": "stderr",
     "output_type": "stream",
     "text": [
      "Processing Input Data: 100%|██████████| 4496/4496 [00:01<00:00, 3154.75it/s]\n"
     ]
    },
    {
     "name": "stdout",
     "output_type": "stream",
     "text": [
      "\tFeaturizing Compositions...\n"
     ]
    },
    {
     "name": "stderr",
     "output_type": "stream",
     "text": [
      "Assigning Features...: 100%|██████████| 4496/4496 [00:05<00:00, 859.10it/s] \n"
     ]
    },
    {
     "name": "stdout",
     "output_type": "stream",
     "text": [
      "\tCreating Pandas Objects...\n"
     ]
    }
   ],
   "source": [
    "X_unscaled, y, formulae, skipped = generate_features(df, elem_prop='oliynyk', drop_duplicates=False, extend_features=False, sum_feat=True)"
   ]
  },
  {
   "cell_type": "code",
   "execution_count": 7,
   "metadata": {
    "id": "w-D6LvwTmd8I"
   },
   "outputs": [],
   "source": [
    "scaler = StandardScaler()\n",
    "\n",
    "X = scaler.fit_transform(X_unscaled)"
   ]
  },
  {
   "cell_type": "code",
   "execution_count": 8,
   "metadata": {
    "id": "eDLgXQaLrlhG"
   },
   "outputs": [],
   "source": [
    "y_predict = model.predict(X)\n",
    "# y_predict"
   ]
  },
  {
   "cell_type": "code",
   "execution_count": 9,
   "metadata": {
    "colab": {
     "base_uri": "https://localhost:8080/",
     "height": 424
    },
    "executionInfo": {
     "elapsed": 16,
     "status": "ok",
     "timestamp": 1652163544094,
     "user": {
      "displayName": "Athul Krishna",
      "userId": "17952052837509004747"
     },
     "user_tz": -330
    },
    "id": "8haXbx67satf",
    "outputId": "9c8bdac1-4a01-4b33-eb1e-584795b0d86f"
   },
   "outputs": [
    {
     "data": {
      "text/html": [
       "<div>\n",
       "<style scoped>\n",
       "    .dataframe tbody tr th:only-of-type {\n",
       "        vertical-align: middle;\n",
       "    }\n",
       "\n",
       "    .dataframe tbody tr th {\n",
       "        vertical-align: top;\n",
       "    }\n",
       "\n",
       "    .dataframe thead th {\n",
       "        text-align: right;\n",
       "    }\n",
       "</style>\n",
       "<table border=\"1\" class=\"dataframe\">\n",
       "  <thead>\n",
       "    <tr style=\"text-align: right;\">\n",
       "      <th></th>\n",
       "      <th>formula</th>\n",
       "      <th>target</th>\n",
       "    </tr>\n",
       "  </thead>\n",
       "  <tbody>\n",
       "    <tr>\n",
       "      <th>300</th>\n",
       "      <td>Sc2O3</td>\n",
       "      <td>3.417074</td>\n",
       "    </tr>\n",
       "    <tr>\n",
       "      <th>2489</th>\n",
       "      <td>MnO24S</td>\n",
       "      <td>3.200531</td>\n",
       "    </tr>\n",
       "    <tr>\n",
       "      <th>2494</th>\n",
       "      <td>MnO24Se</td>\n",
       "      <td>3.178990</td>\n",
       "    </tr>\n",
       "    <tr>\n",
       "      <th>2399</th>\n",
       "      <td>CrO24S</td>\n",
       "      <td>3.172886</td>\n",
       "    </tr>\n",
       "    <tr>\n",
       "      <th>409</th>\n",
       "      <td>Sc2O2S1</td>\n",
       "      <td>3.164450</td>\n",
       "    </tr>\n",
       "    <tr>\n",
       "      <th>...</th>\n",
       "      <td>...</td>\n",
       "      <td>...</td>\n",
       "    </tr>\n",
       "    <tr>\n",
       "      <th>207</th>\n",
       "      <td>Re2SSe</td>\n",
       "      <td>0.281319</td>\n",
       "    </tr>\n",
       "    <tr>\n",
       "      <th>202</th>\n",
       "      <td>Tc2STe</td>\n",
       "      <td>0.268269</td>\n",
       "    </tr>\n",
       "    <tr>\n",
       "      <th>203</th>\n",
       "      <td>Tc2SeTe</td>\n",
       "      <td>0.267594</td>\n",
       "    </tr>\n",
       "    <tr>\n",
       "      <th>208</th>\n",
       "      <td>Re2STe</td>\n",
       "      <td>0.255208</td>\n",
       "    </tr>\n",
       "    <tr>\n",
       "      <th>209</th>\n",
       "      <td>Re2SeTe</td>\n",
       "      <td>0.251999</td>\n",
       "    </tr>\n",
       "  </tbody>\n",
       "</table>\n",
       "<p>4496 rows × 2 columns</p>\n",
       "</div>"
      ],
      "text/plain": [
       "      formula    target\n",
       "300     Sc2O3  3.417074\n",
       "2489   MnO24S  3.200531\n",
       "2494  MnO24Se  3.178990\n",
       "2399   CrO24S  3.172886\n",
       "409   Sc2O2S1  3.164450\n",
       "...       ...       ...\n",
       "207    Re2SSe  0.281319\n",
       "202    Tc2STe  0.268269\n",
       "203   Tc2SeTe  0.267594\n",
       "208    Re2STe  0.255208\n",
       "209   Re2SeTe  0.251999\n",
       "\n",
       "[4496 rows x 2 columns]"
      ]
     },
     "execution_count": 9,
     "metadata": {},
     "output_type": "execute_result"
    }
   ],
   "source": [
    "df['target'] = y_predict\n",
    "df.sort_values(by=['target'], ascending=False)"
   ]
  },
  {
   "cell_type": "code",
   "execution_count": 10,
   "metadata": {},
   "outputs": [],
   "source": [
    "df.columns = ['formula',i]"
   ]
  },
  {
   "cell_type": "code",
   "execution_count": 11,
   "metadata": {
    "id": "GgJEmS7wsuE6"
   },
   "outputs": [],
   "source": [
    "# out_path = os.path.join(PATH, '../predict/MnXn.csv')\n",
    "# df.to_csv(out_path, index=False)"
   ]
  },
  {
   "cell_type": "code",
   "execution_count": 12,
   "metadata": {},
   "outputs": [],
   "source": [
    "df0 = pd.read_csv('../predict/MnXn.csv')"
   ]
  },
  {
   "cell_type": "code",
   "execution_count": 13,
   "metadata": {},
   "outputs": [],
   "source": [
    "df3 = pd.concat([df0,df[df.columns[1]]],axis =1)"
   ]
  },
  {
   "cell_type": "code",
   "execution_count": 14,
   "metadata": {},
   "outputs": [
    {
     "data": {
      "text/html": [
       "<div>\n",
       "<style scoped>\n",
       "    .dataframe tbody tr th:only-of-type {\n",
       "        vertical-align: middle;\n",
       "    }\n",
       "\n",
       "    .dataframe tbody tr th {\n",
       "        vertical-align: top;\n",
       "    }\n",
       "\n",
       "    .dataframe thead th {\n",
       "        text-align: right;\n",
       "    }\n",
       "</style>\n",
       "<table border=\"1\" class=\"dataframe\">\n",
       "  <thead>\n",
       "    <tr style=\"text-align: right;\">\n",
       "      <th></th>\n",
       "      <th>formula</th>\n",
       "      <th>plasmafrequency_x</th>\n",
       "      <th>plasmafrequency_y</th>\n",
       "      <th>cbm_gw</th>\n",
       "      <th>cbm</th>\n",
       "      <th>cbm_hse</th>\n",
       "      <th>gap_dir_gw</th>\n",
       "      <th>gap_dir_nosoc</th>\n",
       "      <th>gap_dir</th>\n",
       "      <th>E_B</th>\n",
       "      <th>gap_gw</th>\n",
       "      <th>gap_hse</th>\n",
       "      <th>gap_nosoc</th>\n",
       "      <th>vbm_gw</th>\n",
       "      <th>vbm</th>\n",
       "      <th>evac</th>\n",
       "      <th>energy</th>\n",
       "      <th>cell_area</th>\n",
       "      <th>thermodynamic_stability_level</th>\n",
       "      <th>gap</th>\n",
       "    </tr>\n",
       "  </thead>\n",
       "  <tbody>\n",
       "    <tr>\n",
       "      <th>0</th>\n",
       "      <td>ScO</td>\n",
       "      <td>6.780477</td>\n",
       "      <td>6.560595</td>\n",
       "      <td>-0.607309</td>\n",
       "      <td>-0.798420</td>\n",
       "      <td>-1.529338</td>\n",
       "      <td>6.758353</td>\n",
       "      <td>3.116082</td>\n",
       "      <td>2.813795</td>\n",
       "      <td>2.323483</td>\n",
       "      <td>6.969133</td>\n",
       "      <td>5.580019</td>\n",
       "      <td>3.342659</td>\n",
       "      <td>-4.975170</td>\n",
       "      <td>-3.366845</td>\n",
       "      <td>1.841164</td>\n",
       "      <td>-2.242213</td>\n",
       "      <td>18.623081</td>\n",
       "      <td>2</td>\n",
       "      <td>2.863731</td>\n",
       "    </tr>\n",
       "    <tr>\n",
       "      <th>1</th>\n",
       "      <td>ScS</td>\n",
       "      <td>6.969697</td>\n",
       "      <td>6.842947</td>\n",
       "      <td>-0.639003</td>\n",
       "      <td>-0.903421</td>\n",
       "      <td>-1.547324</td>\n",
       "      <td>5.600028</td>\n",
       "      <td>1.989232</td>\n",
       "      <td>1.705328</td>\n",
       "      <td>1.681240</td>\n",
       "      <td>5.821370</td>\n",
       "      <td>3.426148</td>\n",
       "      <td>1.983224</td>\n",
       "      <td>-4.093891</td>\n",
       "      <td>-2.690957</td>\n",
       "      <td>2.216470</td>\n",
       "      <td>8.631857</td>\n",
       "      <td>17.504208</td>\n",
       "      <td>2</td>\n",
       "      <td>2.043186</td>\n",
       "    </tr>\n",
       "    <tr>\n",
       "      <th>2</th>\n",
       "      <td>ScSe</td>\n",
       "      <td>7.200925</td>\n",
       "      <td>7.203641</td>\n",
       "      <td>-0.555348</td>\n",
       "      <td>-0.912750</td>\n",
       "      <td>-2.119493</td>\n",
       "      <td>5.115156</td>\n",
       "      <td>1.778853</td>\n",
       "      <td>1.457384</td>\n",
       "      <td>1.319545</td>\n",
       "      <td>5.071643</td>\n",
       "      <td>2.982439</td>\n",
       "      <td>1.749576</td>\n",
       "      <td>-3.853335</td>\n",
       "      <td>-2.430418</td>\n",
       "      <td>2.278890</td>\n",
       "      <td>11.717522</td>\n",
       "      <td>18.447787</td>\n",
       "      <td>2</td>\n",
       "      <td>1.746984</td>\n",
       "    </tr>\n",
       "    <tr>\n",
       "      <th>3</th>\n",
       "      <td>ScTe</td>\n",
       "      <td>8.569013</td>\n",
       "      <td>8.751402</td>\n",
       "      <td>-0.384228</td>\n",
       "      <td>-0.728372</td>\n",
       "      <td>-1.781099</td>\n",
       "      <td>3.905618</td>\n",
       "      <td>1.417777</td>\n",
       "      <td>1.547493</td>\n",
       "      <td>1.157607</td>\n",
       "      <td>3.452277</td>\n",
       "      <td>2.377118</td>\n",
       "      <td>1.360372</td>\n",
       "      <td>-3.511011</td>\n",
       "      <td>-1.722469</td>\n",
       "      <td>2.492009</td>\n",
       "      <td>18.102694</td>\n",
       "      <td>18.897278</td>\n",
       "      <td>2</td>\n",
       "      <td>1.284072</td>\n",
       "    </tr>\n",
       "    <tr>\n",
       "      <th>4</th>\n",
       "      <td>YO</td>\n",
       "      <td>7.205886</td>\n",
       "      <td>6.531613</td>\n",
       "      <td>-0.527423</td>\n",
       "      <td>-0.659455</td>\n",
       "      <td>-1.584716</td>\n",
       "      <td>6.481096</td>\n",
       "      <td>2.971756</td>\n",
       "      <td>2.839955</td>\n",
       "      <td>2.303240</td>\n",
       "      <td>6.727493</td>\n",
       "      <td>5.333688</td>\n",
       "      <td>3.060245</td>\n",
       "      <td>-4.697121</td>\n",
       "      <td>-3.031680</td>\n",
       "      <td>1.944226</td>\n",
       "      <td>-5.780820</td>\n",
       "      <td>20.609101</td>\n",
       "      <td>2</td>\n",
       "      <td>2.716484</td>\n",
       "    </tr>\n",
       "    <tr>\n",
       "      <th>...</th>\n",
       "      <td>...</td>\n",
       "      <td>...</td>\n",
       "      <td>...</td>\n",
       "      <td>...</td>\n",
       "      <td>...</td>\n",
       "      <td>...</td>\n",
       "      <td>...</td>\n",
       "      <td>...</td>\n",
       "      <td>...</td>\n",
       "      <td>...</td>\n",
       "      <td>...</td>\n",
       "      <td>...</td>\n",
       "      <td>...</td>\n",
       "      <td>...</td>\n",
       "      <td>...</td>\n",
       "      <td>...</td>\n",
       "      <td>...</td>\n",
       "      <td>...</td>\n",
       "      <td>...</td>\n",
       "      <td>...</td>\n",
       "    </tr>\n",
       "    <tr>\n",
       "      <th>4491</th>\n",
       "      <td>Cd2Te</td>\n",
       "      <td>6.862673</td>\n",
       "      <td>7.083484</td>\n",
       "      <td>-1.183394</td>\n",
       "      <td>-1.889910</td>\n",
       "      <td>-2.258974</td>\n",
       "      <td>3.277592</td>\n",
       "      <td>1.435393</td>\n",
       "      <td>1.368973</td>\n",
       "      <td>0.850140</td>\n",
       "      <td>2.779590</td>\n",
       "      <td>1.583014</td>\n",
       "      <td>1.365684</td>\n",
       "      <td>-3.786594</td>\n",
       "      <td>-2.684735</td>\n",
       "      <td>2.207500</td>\n",
       "      <td>22.859803</td>\n",
       "      <td>16.469548</td>\n",
       "      <td>1</td>\n",
       "      <td>1.135000</td>\n",
       "    </tr>\n",
       "    <tr>\n",
       "      <th>4492</th>\n",
       "      <td>Hg2O</td>\n",
       "      <td>4.453614</td>\n",
       "      <td>4.065799</td>\n",
       "      <td>-1.663865</td>\n",
       "      <td>-2.721736</td>\n",
       "      <td>-3.231894</td>\n",
       "      <td>4.533672</td>\n",
       "      <td>1.371947</td>\n",
       "      <td>1.108368</td>\n",
       "      <td>1.080975</td>\n",
       "      <td>3.653547</td>\n",
       "      <td>1.180240</td>\n",
       "      <td>1.425215</td>\n",
       "      <td>-5.171823</td>\n",
       "      <td>-3.197159</td>\n",
       "      <td>3.297119</td>\n",
       "      <td>10.905367</td>\n",
       "      <td>14.514042</td>\n",
       "      <td>2</td>\n",
       "      <td>0.847971</td>\n",
       "    </tr>\n",
       "    <tr>\n",
       "      <th>4493</th>\n",
       "      <td>Hg2S</td>\n",
       "      <td>4.542048</td>\n",
       "      <td>4.599807</td>\n",
       "      <td>-1.657120</td>\n",
       "      <td>-2.848962</td>\n",
       "      <td>-3.534912</td>\n",
       "      <td>3.110641</td>\n",
       "      <td>1.174310</td>\n",
       "      <td>1.065036</td>\n",
       "      <td>0.912116</td>\n",
       "      <td>2.772980</td>\n",
       "      <td>1.134505</td>\n",
       "      <td>1.164667</td>\n",
       "      <td>-4.177426</td>\n",
       "      <td>-3.099423</td>\n",
       "      <td>2.810102</td>\n",
       "      <td>13.383667</td>\n",
       "      <td>16.873239</td>\n",
       "      <td>3</td>\n",
       "      <td>0.755105</td>\n",
       "    </tr>\n",
       "    <tr>\n",
       "      <th>4494</th>\n",
       "      <td>Hg2Se</td>\n",
       "      <td>4.592666</td>\n",
       "      <td>4.682071</td>\n",
       "      <td>-1.717275</td>\n",
       "      <td>-2.786778</td>\n",
       "      <td>-3.430847</td>\n",
       "      <td>2.872274</td>\n",
       "      <td>1.109177</td>\n",
       "      <td>1.127247</td>\n",
       "      <td>0.875934</td>\n",
       "      <td>2.616890</td>\n",
       "      <td>1.088919</td>\n",
       "      <td>1.126642</td>\n",
       "      <td>-3.964513</td>\n",
       "      <td>-3.093821</td>\n",
       "      <td>2.492929</td>\n",
       "      <td>15.528016</td>\n",
       "      <td>17.398387</td>\n",
       "      <td>3</td>\n",
       "      <td>0.759706</td>\n",
       "    </tr>\n",
       "    <tr>\n",
       "      <th>4495</th>\n",
       "      <td>Hg2Te</td>\n",
       "      <td>5.150509</td>\n",
       "      <td>5.750191</td>\n",
       "      <td>-1.557742</td>\n",
       "      <td>-2.546295</td>\n",
       "      <td>-2.913362</td>\n",
       "      <td>2.658821</td>\n",
       "      <td>1.089467</td>\n",
       "      <td>1.078518</td>\n",
       "      <td>0.774072</td>\n",
       "      <td>2.481713</td>\n",
       "      <td>1.122745</td>\n",
       "      <td>1.097437</td>\n",
       "      <td>-3.742489</td>\n",
       "      <td>-2.989304</td>\n",
       "      <td>2.408251</td>\n",
       "      <td>17.273035</td>\n",
       "      <td>18.470585</td>\n",
       "      <td>3</td>\n",
       "      <td>0.775546</td>\n",
       "    </tr>\n",
       "  </tbody>\n",
       "</table>\n",
       "<p>4496 rows × 20 columns</p>\n",
       "</div>"
      ],
      "text/plain": [
       "     formula  plasmafrequency_x  plasmafrequency_y    cbm_gw       cbm  \\\n",
       "0        ScO           6.780477           6.560595 -0.607309 -0.798420   \n",
       "1        ScS           6.969697           6.842947 -0.639003 -0.903421   \n",
       "2       ScSe           7.200925           7.203641 -0.555348 -0.912750   \n",
       "3       ScTe           8.569013           8.751402 -0.384228 -0.728372   \n",
       "4         YO           7.205886           6.531613 -0.527423 -0.659455   \n",
       "...      ...                ...                ...       ...       ...   \n",
       "4491   Cd2Te           6.862673           7.083484 -1.183394 -1.889910   \n",
       "4492    Hg2O           4.453614           4.065799 -1.663865 -2.721736   \n",
       "4493    Hg2S           4.542048           4.599807 -1.657120 -2.848962   \n",
       "4494   Hg2Se           4.592666           4.682071 -1.717275 -2.786778   \n",
       "4495   Hg2Te           5.150509           5.750191 -1.557742 -2.546295   \n",
       "\n",
       "       cbm_hse  gap_dir_gw  gap_dir_nosoc   gap_dir       E_B    gap_gw  \\\n",
       "0    -1.529338    6.758353       3.116082  2.813795  2.323483  6.969133   \n",
       "1    -1.547324    5.600028       1.989232  1.705328  1.681240  5.821370   \n",
       "2    -2.119493    5.115156       1.778853  1.457384  1.319545  5.071643   \n",
       "3    -1.781099    3.905618       1.417777  1.547493  1.157607  3.452277   \n",
       "4    -1.584716    6.481096       2.971756  2.839955  2.303240  6.727493   \n",
       "...        ...         ...            ...       ...       ...       ...   \n",
       "4491 -2.258974    3.277592       1.435393  1.368973  0.850140  2.779590   \n",
       "4492 -3.231894    4.533672       1.371947  1.108368  1.080975  3.653547   \n",
       "4493 -3.534912    3.110641       1.174310  1.065036  0.912116  2.772980   \n",
       "4494 -3.430847    2.872274       1.109177  1.127247  0.875934  2.616890   \n",
       "4495 -2.913362    2.658821       1.089467  1.078518  0.774072  2.481713   \n",
       "\n",
       "       gap_hse  gap_nosoc    vbm_gw       vbm      evac     energy  cell_area  \\\n",
       "0     5.580019   3.342659 -4.975170 -3.366845  1.841164  -2.242213  18.623081   \n",
       "1     3.426148   1.983224 -4.093891 -2.690957  2.216470   8.631857  17.504208   \n",
       "2     2.982439   1.749576 -3.853335 -2.430418  2.278890  11.717522  18.447787   \n",
       "3     2.377118   1.360372 -3.511011 -1.722469  2.492009  18.102694  18.897278   \n",
       "4     5.333688   3.060245 -4.697121 -3.031680  1.944226  -5.780820  20.609101   \n",
       "...        ...        ...       ...       ...       ...        ...        ...   \n",
       "4491  1.583014   1.365684 -3.786594 -2.684735  2.207500  22.859803  16.469548   \n",
       "4492  1.180240   1.425215 -5.171823 -3.197159  3.297119  10.905367  14.514042   \n",
       "4493  1.134505   1.164667 -4.177426 -3.099423  2.810102  13.383667  16.873239   \n",
       "4494  1.088919   1.126642 -3.964513 -3.093821  2.492929  15.528016  17.398387   \n",
       "4495  1.122745   1.097437 -3.742489 -2.989304  2.408251  17.273035  18.470585   \n",
       "\n",
       "      thermodynamic_stability_level       gap  \n",
       "0                                 2  2.863731  \n",
       "1                                 2  2.043186  \n",
       "2                                 2  1.746984  \n",
       "3                                 2  1.284072  \n",
       "4                                 2  2.716484  \n",
       "...                             ...       ...  \n",
       "4491                              1  1.135000  \n",
       "4492                              2  0.847971  \n",
       "4493                              3  0.755105  \n",
       "4494                              3  0.759706  \n",
       "4495                              3  0.775546  \n",
       "\n",
       "[4496 rows x 20 columns]"
      ]
     },
     "execution_count": 14,
     "metadata": {},
     "output_type": "execute_result"
    }
   ],
   "source": [
    "df3"
   ]
  },
  {
   "cell_type": "code",
   "execution_count": 15,
   "metadata": {},
   "outputs": [],
   "source": [
    "out_path = os.path.join(PATH, '../predict/MnXn.csv')\n",
    "df3.to_csv(out_path, index=False)"
   ]
  },
  {
   "cell_type": "code",
   "execution_count": null,
   "metadata": {},
   "outputs": [],
   "source": []
  }
 ],
 "metadata": {
  "colab": {
   "authorship_tag": "ABX9TyPIOHAIYX92+GMfxNcQ6Ec2",
   "collapsed_sections": [],
   "name": "4-prediction.ipynb",
   "provenance": []
  },
  "interpreter": {
   "hash": "b43b91101fb7361b6ea74e48111b7449281637cecc6b0034541f7043ed3e6d27"
  },
  "kernelspec": {
   "display_name": "Python 3.9.12 ('project')",
   "language": "python",
   "name": "python3"
  },
  "language_info": {
   "codemirror_mode": {
    "name": "ipython",
    "version": 3
   },
   "file_extension": ".py",
   "mimetype": "text/x-python",
   "name": "python",
   "nbconvert_exporter": "python",
   "pygments_lexer": "ipython3",
   "version": "3.9.12"
  }
 },
 "nbformat": 4,
 "nbformat_minor": 4
}
