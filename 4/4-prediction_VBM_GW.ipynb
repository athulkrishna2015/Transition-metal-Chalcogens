{
 "cells": [
  {
   "cell_type": "code",
   "execution_count": 1,
   "metadata": {
    "colab": {
     "base_uri": "https://localhost:8080/"
    },
    "executionInfo": {
     "elapsed": 6697,
     "status": "ok",
     "timestamp": 1652202023665,
     "user": {
      "displayName": "Athul Krishna",
      "userId": "17952052837509004747"
     },
     "user_tz": -330
    },
    "id": "j6Kj64z9hkMu",
    "outputId": "913883e9-33fc-400b-c778-5db074b5fcc5"
   },
   "outputs": [],
   "source": [
    "# !pip install CBFV\n",
    "# # !pip install pandas-Profiling -U"
   ]
  },
  {
   "cell_type": "code",
   "execution_count": 2,
   "metadata": {
    "executionInfo": {
     "elapsed": 1295,
     "status": "ok",
     "timestamp": 1652202024937,
     "user": {
      "displayName": "Athul Krishna",
      "userId": "17952052837509004747"
     },
     "user_tz": -330
    },
    "id": "U8ZgDyZXgW8V"
   },
   "outputs": [],
   "source": [
    "import os\n",
    "import pandas as pd\n",
    "# from pandas_profiling import ProfileReport\n",
    "from sklearn.preprocessing import StandardScaler\n",
    "# from sklearn.preprocessing import normalize\n",
    "\n",
    "from CBFV.composition import generate_features"
   ]
  },
  {
   "cell_type": "code",
   "execution_count": 3,
   "metadata": {
    "colab": {
     "base_uri": "https://localhost:8080/"
    },
    "executionInfo": {
     "elapsed": 27959,
     "status": "ok",
     "timestamp": 1652202052886,
     "user": {
      "displayName": "Athul Krishna",
      "userId": "17952052837509004747"
     },
     "user_tz": -330
    },
    "id": "bKZydfaRfrdo",
    "outputId": "84cba7c0-a362-4a8b-b611-7d4c26f3add3"
   },
   "outputs": [],
   "source": [
    "# from google.colab import drive\n",
    "# drive.mount('/content/drive')"
   ]
  },
  {
   "cell_type": "code",
   "execution_count": 4,
   "metadata": {},
   "outputs": [],
   "source": [
    "i = 'VBM_gw'"
   ]
  },
  {
   "cell_type": "code",
   "execution_count": 5,
   "metadata": {
    "executionInfo": {
     "elapsed": 1960,
     "status": "ok",
     "timestamp": 1652202054836,
     "user": {
      "displayName": "Athul Krishna",
      "userId": "17952052837509004747"
     },
     "user_tz": -330
    },
    "id": "Bg8I004QfbKL"
   },
   "outputs": [],
   "source": [
    "from joblib import dump, load\n",
    "#load model\n",
    "model = load(f'../save_model/{i}_oliynyk_ExtraTreesRegressor_full_HPO.joblib') "
   ]
  },
  {
   "cell_type": "code",
   "execution_count": 6,
   "metadata": {
    "colab": {
     "base_uri": "https://localhost:8080/"
    },
    "executionInfo": {
     "elapsed": 28327,
     "status": "ok",
     "timestamp": 1652202442972,
     "user": {
      "displayName": "Athul Krishna",
      "userId": "17952052837509004747"
     },
     "user_tz": -330
    },
    "id": "gmiznUS7w67O",
    "outputId": "e1b5aa60-a67a-4fe5-e8a4-05758658d41d"
   },
   "outputs": [],
   "source": [
    "# !python Metal_chal_all.py > '/content/drive/MyDrive/jupyter/2D/data/Metal_chal_all.csv'"
   ]
  },
  {
   "cell_type": "code",
   "execution_count": 7,
   "metadata": {
    "colab": {
     "base_uri": "https://localhost:8080/",
     "height": 394
    },
    "executionInfo": {
     "elapsed": 31,
     "status": "error",
     "timestamp": 1652202442975,
     "user": {
      "displayName": "Athul Krishna",
      "userId": "17952052837509004747"
     },
     "user_tz": -330
    },
    "id": "WvzqPfNbgFR6",
    "outputId": "6b544631-48ad-4d19-f575-1e4d3ea187f4"
   },
   "outputs": [
    {
     "data": {
      "text/html": [
       "<div>\n",
       "<style scoped>\n",
       "    .dataframe tbody tr th:only-of-type {\n",
       "        vertical-align: middle;\n",
       "    }\n",
       "\n",
       "    .dataframe tbody tr th {\n",
       "        vertical-align: top;\n",
       "    }\n",
       "\n",
       "    .dataframe thead th {\n",
       "        text-align: right;\n",
       "    }\n",
       "</style>\n",
       "<table border=\"1\" class=\"dataframe\">\n",
       "  <thead>\n",
       "    <tr style=\"text-align: right;\">\n",
       "      <th></th>\n",
       "      <th>formula</th>\n",
       "    </tr>\n",
       "  </thead>\n",
       "  <tbody>\n",
       "    <tr>\n",
       "      <th>0</th>\n",
       "      <td>ScO</td>\n",
       "    </tr>\n",
       "    <tr>\n",
       "      <th>1</th>\n",
       "      <td>ScS</td>\n",
       "    </tr>\n",
       "    <tr>\n",
       "      <th>2</th>\n",
       "      <td>ScSe</td>\n",
       "    </tr>\n",
       "    <tr>\n",
       "      <th>3</th>\n",
       "      <td>ScTe</td>\n",
       "    </tr>\n",
       "    <tr>\n",
       "      <th>4</th>\n",
       "      <td>YO</td>\n",
       "    </tr>\n",
       "    <tr>\n",
       "      <th>...</th>\n",
       "      <td>...</td>\n",
       "    </tr>\n",
       "    <tr>\n",
       "      <th>4491</th>\n",
       "      <td>Cd2Te</td>\n",
       "    </tr>\n",
       "    <tr>\n",
       "      <th>4492</th>\n",
       "      <td>Hg2O</td>\n",
       "    </tr>\n",
       "    <tr>\n",
       "      <th>4493</th>\n",
       "      <td>Hg2S</td>\n",
       "    </tr>\n",
       "    <tr>\n",
       "      <th>4494</th>\n",
       "      <td>Hg2Se</td>\n",
       "    </tr>\n",
       "    <tr>\n",
       "      <th>4495</th>\n",
       "      <td>Hg2Te</td>\n",
       "    </tr>\n",
       "  </tbody>\n",
       "</table>\n",
       "<p>4496 rows × 1 columns</p>\n",
       "</div>"
      ],
      "text/plain": [
       "     formula\n",
       "0        ScO\n",
       "1        ScS\n",
       "2       ScSe\n",
       "3       ScTe\n",
       "4         YO\n",
       "...      ...\n",
       "4491   Cd2Te\n",
       "4492    Hg2O\n",
       "4493    Hg2S\n",
       "4494   Hg2Se\n",
       "4495   Hg2Te\n",
       "\n",
       "[4496 rows x 1 columns]"
      ]
     },
     "execution_count": 7,
     "metadata": {},
     "output_type": "execute_result"
    }
   ],
   "source": [
    "PATH = os.getcwd()\n",
    "data_path = os.path.join(PATH, '../test/M2Xn.csv')\n",
    "df = pd.read_csv(data_path)\n",
    "\n",
    "df"
   ]
  },
  {
   "cell_type": "code",
   "execution_count": 8,
   "metadata": {
    "id": "JVQSyJNLnWct"
   },
   "outputs": [],
   "source": [
    "# profile = ProfileReport(df, title=\"Pandas Profiling Report\")\n",
    "# profile.to_notebook_iframe()\n"
   ]
  },
  {
   "cell_type": "code",
   "execution_count": 9,
   "metadata": {
    "colab": {
     "base_uri": "https://localhost:8080/",
     "height": 206
    },
    "executionInfo": {
     "elapsed": 71,
     "status": "ok",
     "timestamp": 1652163543643,
     "user": {
      "displayName": "Athul Krishna",
      "userId": "17952052837509004747"
     },
     "user_tz": -330
    },
    "id": "xz515HadgJeD",
    "outputId": "ced8d364-ced9-4781-f12e-014df848f4dd"
   },
   "outputs": [
    {
     "data": {
      "text/html": [
       "<div>\n",
       "<style scoped>\n",
       "    .dataframe tbody tr th:only-of-type {\n",
       "        vertical-align: middle;\n",
       "    }\n",
       "\n",
       "    .dataframe tbody tr th {\n",
       "        vertical-align: top;\n",
       "    }\n",
       "\n",
       "    .dataframe thead th {\n",
       "        text-align: right;\n",
       "    }\n",
       "</style>\n",
       "<table border=\"1\" class=\"dataframe\">\n",
       "  <thead>\n",
       "    <tr style=\"text-align: right;\">\n",
       "      <th></th>\n",
       "      <th>formula</th>\n",
       "      <th>target</th>\n",
       "    </tr>\n",
       "  </thead>\n",
       "  <tbody>\n",
       "    <tr>\n",
       "      <th>0</th>\n",
       "      <td>ScO</td>\n",
       "      <td>0</td>\n",
       "    </tr>\n",
       "    <tr>\n",
       "      <th>1</th>\n",
       "      <td>ScS</td>\n",
       "      <td>0</td>\n",
       "    </tr>\n",
       "    <tr>\n",
       "      <th>2</th>\n",
       "      <td>ScSe</td>\n",
       "      <td>0</td>\n",
       "    </tr>\n",
       "    <tr>\n",
       "      <th>3</th>\n",
       "      <td>ScTe</td>\n",
       "      <td>0</td>\n",
       "    </tr>\n",
       "    <tr>\n",
       "      <th>4</th>\n",
       "      <td>YO</td>\n",
       "      <td>0</td>\n",
       "    </tr>\n",
       "  </tbody>\n",
       "</table>\n",
       "</div>"
      ],
      "text/plain": [
       "  formula  target\n",
       "0     ScO       0\n",
       "1     ScS       0\n",
       "2    ScSe       0\n",
       "3    ScTe       0\n",
       "4      YO       0"
      ]
     },
     "execution_count": 9,
     "metadata": {},
     "output_type": "execute_result"
    }
   ],
   "source": [
    "df['target'] = 0\n",
    "# df.head()\n",
    "df.columns = ['formula','target']\n",
    "df.head()"
   ]
  },
  {
   "cell_type": "code",
   "execution_count": 10,
   "metadata": {
    "colab": {
     "base_uri": "https://localhost:8080/"
    },
    "executionInfo": {
     "elapsed": 68,
     "status": "ok",
     "timestamp": 1652163543645,
     "user": {
      "displayName": "Athul Krishna",
      "userId": "17952052837509004747"
     },
     "user_tz": -330
    },
    "id": "J1xTV_5cjXGD",
    "outputId": "98baf9a3-ea5d-47f6-c262-267bbeddd365"
   },
   "outputs": [
    {
     "name": "stderr",
     "output_type": "stream",
     "text": [
      "Processing Input Data: 100%|██████████| 4496/4496 [00:02<00:00, 1638.00it/s]\n"
     ]
    },
    {
     "name": "stdout",
     "output_type": "stream",
     "text": [
      "\tFeaturizing Compositions...\n"
     ]
    },
    {
     "name": "stderr",
     "output_type": "stream",
     "text": [
      "Assigning Features...: 100%|██████████| 4496/4496 [00:06<00:00, 702.64it/s] \n"
     ]
    },
    {
     "name": "stdout",
     "output_type": "stream",
     "text": [
      "\tCreating Pandas Objects...\n"
     ]
    }
   ],
   "source": [
    "X_unscaled, y, formulae, skipped = generate_features(df, elem_prop='oliynyk', drop_duplicates=False, extend_features=False, sum_feat=True)"
   ]
  },
  {
   "cell_type": "code",
   "execution_count": 11,
   "metadata": {
    "id": "w-D6LvwTmd8I"
   },
   "outputs": [],
   "source": [
    "scaler = StandardScaler()\n",
    "\n",
    "X = scaler.fit_transform(X_unscaled)"
   ]
  },
  {
   "cell_type": "code",
   "execution_count": 12,
   "metadata": {
    "id": "eDLgXQaLrlhG"
   },
   "outputs": [],
   "source": [
    "y_predict = model.predict(X)\n",
    "# y_predict"
   ]
  },
  {
   "cell_type": "code",
   "execution_count": 13,
   "metadata": {
    "colab": {
     "base_uri": "https://localhost:8080/",
     "height": 424
    },
    "executionInfo": {
     "elapsed": 16,
     "status": "ok",
     "timestamp": 1652163544094,
     "user": {
      "displayName": "Athul Krishna",
      "userId": "17952052837509004747"
     },
     "user_tz": -330
    },
    "id": "8haXbx67satf",
    "outputId": "9c8bdac1-4a01-4b33-eb1e-584795b0d86f"
   },
   "outputs": [
    {
     "data": {
      "text/html": [
       "<div>\n",
       "<style scoped>\n",
       "    .dataframe tbody tr th:only-of-type {\n",
       "        vertical-align: middle;\n",
       "    }\n",
       "\n",
       "    .dataframe tbody tr th {\n",
       "        vertical-align: top;\n",
       "    }\n",
       "\n",
       "    .dataframe thead th {\n",
       "        text-align: right;\n",
       "    }\n",
       "</style>\n",
       "<table border=\"1\" class=\"dataframe\">\n",
       "  <thead>\n",
       "    <tr style=\"text-align: right;\">\n",
       "      <th></th>\n",
       "      <th>formula</th>\n",
       "      <th>target</th>\n",
       "    </tr>\n",
       "  </thead>\n",
       "  <tbody>\n",
       "    <tr>\n",
       "      <th>2481</th>\n",
       "      <td>W2Se1Te5</td>\n",
       "      <td>-0.510964</td>\n",
       "    </tr>\n",
       "    <tr>\n",
       "      <th>2476</th>\n",
       "      <td>W2S1Te5</td>\n",
       "      <td>-0.603814</td>\n",
       "    </tr>\n",
       "    <tr>\n",
       "      <th>2483</th>\n",
       "      <td>W2Se3Te3</td>\n",
       "      <td>-0.625552</td>\n",
       "    </tr>\n",
       "    <tr>\n",
       "      <th>1676</th>\n",
       "      <td>Re2Se1Te4</td>\n",
       "      <td>-0.649936</td>\n",
       "    </tr>\n",
       "    <tr>\n",
       "      <th>2776</th>\n",
       "      <td>W2S1Se1Te4</td>\n",
       "      <td>-0.654740</td>\n",
       "    </tr>\n",
       "    <tr>\n",
       "      <th>...</th>\n",
       "      <td>...</td>\n",
       "      <td>...</td>\n",
       "    </tr>\n",
       "    <tr>\n",
       "      <th>840</th>\n",
       "      <td>TiO2</td>\n",
       "      <td>-6.823007</td>\n",
       "    </tr>\n",
       "    <tr>\n",
       "      <th>876</th>\n",
       "      <td>MnO2</td>\n",
       "      <td>-6.922990</td>\n",
       "    </tr>\n",
       "    <tr>\n",
       "      <th>300</th>\n",
       "      <td>Sc2O3</td>\n",
       "      <td>-7.297333</td>\n",
       "    </tr>\n",
       "    <tr>\n",
       "      <th>396</th>\n",
       "      <td>Cu2O3</td>\n",
       "      <td>-7.410411</td>\n",
       "    </tr>\n",
       "    <tr>\n",
       "      <th>400</th>\n",
       "      <td>Ag2O3</td>\n",
       "      <td>-7.550063</td>\n",
       "    </tr>\n",
       "  </tbody>\n",
       "</table>\n",
       "<p>4496 rows × 2 columns</p>\n",
       "</div>"
      ],
      "text/plain": [
       "         formula    target\n",
       "2481    W2Se1Te5 -0.510964\n",
       "2476     W2S1Te5 -0.603814\n",
       "2483    W2Se3Te3 -0.625552\n",
       "1676   Re2Se1Te4 -0.649936\n",
       "2776  W2S1Se1Te4 -0.654740\n",
       "...          ...       ...\n",
       "840         TiO2 -6.823007\n",
       "876         MnO2 -6.922990\n",
       "300        Sc2O3 -7.297333\n",
       "396        Cu2O3 -7.410411\n",
       "400        Ag2O3 -7.550063\n",
       "\n",
       "[4496 rows x 2 columns]"
      ]
     },
     "execution_count": 13,
     "metadata": {},
     "output_type": "execute_result"
    }
   ],
   "source": [
    "df['target'] = y_predict\n",
    "df.sort_values(by=['target'], ascending=False)"
   ]
  },
  {
   "cell_type": "code",
   "execution_count": 14,
   "metadata": {},
   "outputs": [],
   "source": [
    "df.columns = ['formula',i]"
   ]
  },
  {
   "cell_type": "code",
   "execution_count": 15,
   "metadata": {
    "id": "GgJEmS7wsuE6"
   },
   "outputs": [],
   "source": [
    "# out_path = os.path.join(PATH, '../predict/MnXn.csv')\n",
    "# df.to_csv(out_path, index=False)"
   ]
  },
  {
   "cell_type": "code",
   "execution_count": 16,
   "metadata": {},
   "outputs": [],
   "source": [
    "df0 = pd.read_csv('../predict/MnXn.csv')"
   ]
  },
  {
   "cell_type": "code",
   "execution_count": 17,
   "metadata": {},
   "outputs": [],
   "source": [
    "df3 = pd.concat([df0,df[df.columns[1]]],axis =1)"
   ]
  },
  {
   "cell_type": "code",
   "execution_count": 18,
   "metadata": {},
   "outputs": [
    {
     "data": {
      "text/html": [
       "<div>\n",
       "<style scoped>\n",
       "    .dataframe tbody tr th:only-of-type {\n",
       "        vertical-align: middle;\n",
       "    }\n",
       "\n",
       "    .dataframe tbody tr th {\n",
       "        vertical-align: top;\n",
       "    }\n",
       "\n",
       "    .dataframe thead th {\n",
       "        text-align: right;\n",
       "    }\n",
       "</style>\n",
       "<table border=\"1\" class=\"dataframe\">\n",
       "  <thead>\n",
       "    <tr style=\"text-align: right;\">\n",
       "      <th></th>\n",
       "      <th>formula</th>\n",
       "      <th>2Dpfx</th>\n",
       "      <th>2Dpfy</th>\n",
       "      <th>CBM_GW</th>\n",
       "      <th>CBM</th>\n",
       "      <th>CBM_HSE06</th>\n",
       "      <th>Dgap_gw</th>\n",
       "      <th>Dgap_WSOC</th>\n",
       "      <th>Dgap</th>\n",
       "      <th>EBE</th>\n",
       "      <th>gp_gw</th>\n",
       "      <th>gp_HSE06</th>\n",
       "      <th>GWSOC</th>\n",
       "      <th>VBM_gw</th>\n",
       "    </tr>\n",
       "  </thead>\n",
       "  <tbody>\n",
       "    <tr>\n",
       "      <th>0</th>\n",
       "      <td>ScO</td>\n",
       "      <td>6.780477</td>\n",
       "      <td>6.560595</td>\n",
       "      <td>-0.607309</td>\n",
       "      <td>-0.798420</td>\n",
       "      <td>-1.529338</td>\n",
       "      <td>6.758353</td>\n",
       "      <td>3.116082</td>\n",
       "      <td>2.813795</td>\n",
       "      <td>2.323483</td>\n",
       "      <td>6.969133</td>\n",
       "      <td>5.580019</td>\n",
       "      <td>3.342659</td>\n",
       "      <td>-4.975170</td>\n",
       "    </tr>\n",
       "    <tr>\n",
       "      <th>1</th>\n",
       "      <td>ScS</td>\n",
       "      <td>6.969697</td>\n",
       "      <td>6.842947</td>\n",
       "      <td>-0.639003</td>\n",
       "      <td>-0.903421</td>\n",
       "      <td>-1.547324</td>\n",
       "      <td>5.600028</td>\n",
       "      <td>1.989232</td>\n",
       "      <td>1.705328</td>\n",
       "      <td>1.681240</td>\n",
       "      <td>5.821370</td>\n",
       "      <td>3.426148</td>\n",
       "      <td>1.983223</td>\n",
       "      <td>-4.093891</td>\n",
       "    </tr>\n",
       "    <tr>\n",
       "      <th>2</th>\n",
       "      <td>ScSe</td>\n",
       "      <td>7.200925</td>\n",
       "      <td>7.203641</td>\n",
       "      <td>-0.555348</td>\n",
       "      <td>-0.912750</td>\n",
       "      <td>-2.119493</td>\n",
       "      <td>5.115156</td>\n",
       "      <td>1.778853</td>\n",
       "      <td>1.457384</td>\n",
       "      <td>1.319545</td>\n",
       "      <td>5.071643</td>\n",
       "      <td>2.982439</td>\n",
       "      <td>1.749576</td>\n",
       "      <td>-3.853335</td>\n",
       "    </tr>\n",
       "    <tr>\n",
       "      <th>3</th>\n",
       "      <td>ScTe</td>\n",
       "      <td>8.569013</td>\n",
       "      <td>8.751402</td>\n",
       "      <td>-0.384228</td>\n",
       "      <td>-0.728372</td>\n",
       "      <td>-1.781099</td>\n",
       "      <td>3.905618</td>\n",
       "      <td>1.417777</td>\n",
       "      <td>1.547493</td>\n",
       "      <td>1.157607</td>\n",
       "      <td>3.452277</td>\n",
       "      <td>2.377118</td>\n",
       "      <td>1.360372</td>\n",
       "      <td>-3.511011</td>\n",
       "    </tr>\n",
       "    <tr>\n",
       "      <th>4</th>\n",
       "      <td>YO</td>\n",
       "      <td>7.205886</td>\n",
       "      <td>6.531613</td>\n",
       "      <td>-0.527423</td>\n",
       "      <td>-0.659455</td>\n",
       "      <td>-1.584716</td>\n",
       "      <td>6.481096</td>\n",
       "      <td>2.971756</td>\n",
       "      <td>2.839955</td>\n",
       "      <td>2.303240</td>\n",
       "      <td>6.727493</td>\n",
       "      <td>5.333688</td>\n",
       "      <td>3.060245</td>\n",
       "      <td>-4.697121</td>\n",
       "    </tr>\n",
       "    <tr>\n",
       "      <th>...</th>\n",
       "      <td>...</td>\n",
       "      <td>...</td>\n",
       "      <td>...</td>\n",
       "      <td>...</td>\n",
       "      <td>...</td>\n",
       "      <td>...</td>\n",
       "      <td>...</td>\n",
       "      <td>...</td>\n",
       "      <td>...</td>\n",
       "      <td>...</td>\n",
       "      <td>...</td>\n",
       "      <td>...</td>\n",
       "      <td>...</td>\n",
       "      <td>...</td>\n",
       "    </tr>\n",
       "    <tr>\n",
       "      <th>4491</th>\n",
       "      <td>Cd2Te</td>\n",
       "      <td>6.862673</td>\n",
       "      <td>7.083484</td>\n",
       "      <td>-1.183394</td>\n",
       "      <td>-1.889910</td>\n",
       "      <td>-2.258974</td>\n",
       "      <td>3.277592</td>\n",
       "      <td>1.435393</td>\n",
       "      <td>1.368973</td>\n",
       "      <td>0.850140</td>\n",
       "      <td>2.779590</td>\n",
       "      <td>1.583014</td>\n",
       "      <td>1.365684</td>\n",
       "      <td>-3.786594</td>\n",
       "    </tr>\n",
       "    <tr>\n",
       "      <th>4492</th>\n",
       "      <td>Hg2O</td>\n",
       "      <td>4.453614</td>\n",
       "      <td>4.065799</td>\n",
       "      <td>-1.663865</td>\n",
       "      <td>-2.721736</td>\n",
       "      <td>-3.231894</td>\n",
       "      <td>4.533672</td>\n",
       "      <td>1.371947</td>\n",
       "      <td>1.108368</td>\n",
       "      <td>1.080975</td>\n",
       "      <td>3.653547</td>\n",
       "      <td>1.180240</td>\n",
       "      <td>1.425215</td>\n",
       "      <td>-5.171823</td>\n",
       "    </tr>\n",
       "    <tr>\n",
       "      <th>4493</th>\n",
       "      <td>Hg2S</td>\n",
       "      <td>4.542048</td>\n",
       "      <td>4.599807</td>\n",
       "      <td>-1.657120</td>\n",
       "      <td>-2.848962</td>\n",
       "      <td>-3.534912</td>\n",
       "      <td>3.110641</td>\n",
       "      <td>1.174310</td>\n",
       "      <td>1.065036</td>\n",
       "      <td>0.912116</td>\n",
       "      <td>2.772980</td>\n",
       "      <td>1.134505</td>\n",
       "      <td>1.164667</td>\n",
       "      <td>-4.177426</td>\n",
       "    </tr>\n",
       "    <tr>\n",
       "      <th>4494</th>\n",
       "      <td>Hg2Se</td>\n",
       "      <td>4.592666</td>\n",
       "      <td>4.682071</td>\n",
       "      <td>-1.717275</td>\n",
       "      <td>-2.786778</td>\n",
       "      <td>-3.430847</td>\n",
       "      <td>2.872274</td>\n",
       "      <td>1.109177</td>\n",
       "      <td>1.127247</td>\n",
       "      <td>0.875934</td>\n",
       "      <td>2.616890</td>\n",
       "      <td>1.088919</td>\n",
       "      <td>1.126642</td>\n",
       "      <td>-3.964513</td>\n",
       "    </tr>\n",
       "    <tr>\n",
       "      <th>4495</th>\n",
       "      <td>Hg2Te</td>\n",
       "      <td>5.150509</td>\n",
       "      <td>5.750191</td>\n",
       "      <td>-1.557742</td>\n",
       "      <td>-2.546295</td>\n",
       "      <td>-2.913362</td>\n",
       "      <td>2.658821</td>\n",
       "      <td>1.089467</td>\n",
       "      <td>1.078518</td>\n",
       "      <td>0.774072</td>\n",
       "      <td>2.481713</td>\n",
       "      <td>1.122745</td>\n",
       "      <td>1.097437</td>\n",
       "      <td>-3.742489</td>\n",
       "    </tr>\n",
       "  </tbody>\n",
       "</table>\n",
       "<p>4496 rows × 14 columns</p>\n",
       "</div>"
      ],
      "text/plain": [
       "     formula     2Dpfx     2Dpfy    CBM_GW       CBM  CBM_HSE06   Dgap_gw  \\\n",
       "0        ScO  6.780477  6.560595 -0.607309 -0.798420  -1.529338  6.758353   \n",
       "1        ScS  6.969697  6.842947 -0.639003 -0.903421  -1.547324  5.600028   \n",
       "2       ScSe  7.200925  7.203641 -0.555348 -0.912750  -2.119493  5.115156   \n",
       "3       ScTe  8.569013  8.751402 -0.384228 -0.728372  -1.781099  3.905618   \n",
       "4         YO  7.205886  6.531613 -0.527423 -0.659455  -1.584716  6.481096   \n",
       "...      ...       ...       ...       ...       ...        ...       ...   \n",
       "4491   Cd2Te  6.862673  7.083484 -1.183394 -1.889910  -2.258974  3.277592   \n",
       "4492    Hg2O  4.453614  4.065799 -1.663865 -2.721736  -3.231894  4.533672   \n",
       "4493    Hg2S  4.542048  4.599807 -1.657120 -2.848962  -3.534912  3.110641   \n",
       "4494   Hg2Se  4.592666  4.682071 -1.717275 -2.786778  -3.430847  2.872274   \n",
       "4495   Hg2Te  5.150509  5.750191 -1.557742 -2.546295  -2.913362  2.658821   \n",
       "\n",
       "      Dgap_WSOC      Dgap       EBE     gp_gw  gp_HSE06     GWSOC    VBM_gw  \n",
       "0      3.116082  2.813795  2.323483  6.969133  5.580019  3.342659 -4.975170  \n",
       "1      1.989232  1.705328  1.681240  5.821370  3.426148  1.983223 -4.093891  \n",
       "2      1.778853  1.457384  1.319545  5.071643  2.982439  1.749576 -3.853335  \n",
       "3      1.417777  1.547493  1.157607  3.452277  2.377118  1.360372 -3.511011  \n",
       "4      2.971756  2.839955  2.303240  6.727493  5.333688  3.060245 -4.697121  \n",
       "...         ...       ...       ...       ...       ...       ...       ...  \n",
       "4491   1.435393  1.368973  0.850140  2.779590  1.583014  1.365684 -3.786594  \n",
       "4492   1.371947  1.108368  1.080975  3.653547  1.180240  1.425215 -5.171823  \n",
       "4493   1.174310  1.065036  0.912116  2.772980  1.134505  1.164667 -4.177426  \n",
       "4494   1.109177  1.127247  0.875934  2.616890  1.088919  1.126642 -3.964513  \n",
       "4495   1.089467  1.078518  0.774072  2.481713  1.122745  1.097437 -3.742489  \n",
       "\n",
       "[4496 rows x 14 columns]"
      ]
     },
     "execution_count": 18,
     "metadata": {},
     "output_type": "execute_result"
    }
   ],
   "source": [
    "df3"
   ]
  },
  {
   "cell_type": "code",
   "execution_count": 19,
   "metadata": {},
   "outputs": [],
   "source": [
    "out_path = os.path.join(PATH, '../predict/MnXn.csv')\n",
    "df3.to_csv(out_path, index=False)"
   ]
  },
  {
   "cell_type": "code",
   "execution_count": null,
   "metadata": {},
   "outputs": [],
   "source": []
  }
 ],
 "metadata": {
  "colab": {
   "authorship_tag": "ABX9TyPIOHAIYX92+GMfxNcQ6Ec2",
   "collapsed_sections": [],
   "name": "4-prediction.ipynb",
   "provenance": []
  },
  "interpreter": {
   "hash": "b43b91101fb7361b6ea74e48111b7449281637cecc6b0034541f7043ed3e6d27"
  },
  "kernelspec": {
   "display_name": "Python 3.9.12 ('project')",
   "language": "python",
   "name": "python3"
  },
  "language_info": {
   "codemirror_mode": {
    "name": "ipython",
    "version": 3
   },
   "file_extension": ".py",
   "mimetype": "text/x-python",
   "name": "python",
   "nbconvert_exporter": "python",
   "pygments_lexer": "ipython3",
   "version": "3.9.12"
  }
 },
 "nbformat": 4,
 "nbformat_minor": 4
}
