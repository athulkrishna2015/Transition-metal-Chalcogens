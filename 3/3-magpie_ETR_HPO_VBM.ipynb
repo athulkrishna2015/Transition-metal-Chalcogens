{
 "cells": [
  {
   "cell_type": "code",
   "execution_count": 1,
   "metadata": {
    "colab": {
     "base_uri": "https://localhost:8080/"
    },
    "executionInfo": {
     "elapsed": 4384,
     "status": "ok",
     "timestamp": 1652345686891,
     "user": {
      "displayName": "Athul Krishna",
      "userId": "17952052837509004747"
     },
     "user_tz": -330
    },
    "id": "f8cpBAguV89-",
    "outputId": "be88b0ec-ebf3-4635-dc69-fa8825e18dad"
   },
   "outputs": [],
   "source": [
    "# !pip install CBFV"
   ]
  },
  {
   "cell_type": "code",
   "execution_count": 2,
   "metadata": {
    "executionInfo": {
     "elapsed": 1135,
     "status": "ok",
     "timestamp": 1652345688014,
     "user": {
      "displayName": "Athul Krishna",
      "userId": "17952052837509004747"
     },
     "user_tz": -330
    },
    "id": "_f42yHu9WfOD"
   },
   "outputs": [],
   "source": [
    "import os\n",
    "import pandas as pd\n",
    "import numpy as np\n",
    "import matplotlib.pyplot as plt\n",
    "%matplotlib inline\n",
    "%config InlineBackend.figure_format='retina'\n",
    "\n",
    "from sklearn.model_selection import train_test_split\n",
    "from sklearn.preprocessing import StandardScaler\n",
    "from sklearn.preprocessing import normalize\n",
    "from sklearn.ensemble import ExtraTreesRegressor\n",
    "from sklearn.metrics import r2_score\n",
    "from sklearn.metrics import mean_absolute_error\n",
    "from sklearn.metrics import mean_squared_error\n",
    "\n",
    "from CBFV.composition import generate_features"
   ]
  },
  {
   "cell_type": "code",
   "execution_count": 3,
   "metadata": {
    "colab": {
     "base_uri": "https://localhost:8080/"
    },
    "executionInfo": {
     "elapsed": 32925,
     "status": "ok",
     "timestamp": 1652345720926,
     "user": {
      "displayName": "Athul Krishna",
      "userId": "17952052837509004747"
     },
     "user_tz": -330
    },
    "id": "f-8d_W4LWC8Y",
    "outputId": "b02556df-33cc-4f8a-fe60-571c7ffc2b4b"
   },
   "outputs": [],
   "source": [
    "# from google.colab import drive\n",
    "# drive.mount('/content/drive')"
   ]
  },
  {
   "cell_type": "code",
   "execution_count": 4,
   "metadata": {
    "colab": {
     "base_uri": "https://localhost:8080/",
     "height": 363
    },
    "executionInfo": {
     "elapsed": 880,
     "status": "ok",
     "timestamp": 1652345721762,
     "user": {
      "displayName": "Athul Krishna",
      "userId": "17952052837509004747"
     },
     "user_tz": -330
    },
    "id": "04cP0jkTWPRs",
    "outputId": "0579897b-c427-4f92-8724-480c92815deb"
   },
   "outputs": [
    {
     "data": {
      "text/html": [
       "<div>\n",
       "<style scoped>\n",
       "    .dataframe tbody tr th:only-of-type {\n",
       "        vertical-align: middle;\n",
       "    }\n",
       "\n",
       "    .dataframe tbody tr th {\n",
       "        vertical-align: top;\n",
       "    }\n",
       "\n",
       "    .dataframe thead th {\n",
       "        text-align: right;\n",
       "    }\n",
       "</style>\n",
       "<table border=\"1\" class=\"dataframe\">\n",
       "  <thead>\n",
       "    <tr style=\"text-align: right;\">\n",
       "      <th></th>\n",
       "      <th>Formula</th>\n",
       "      <th>Val. band maximum</th>\n",
       "    </tr>\n",
       "  </thead>\n",
       "  <tbody>\n",
       "    <tr>\n",
       "      <th>0</th>\n",
       "      <td>Ag2Au2Cl8</td>\n",
       "      <td>-5.449</td>\n",
       "    </tr>\n",
       "    <tr>\n",
       "      <th>1</th>\n",
       "      <td>Ag2Br2</td>\n",
       "      <td>-3.528</td>\n",
       "    </tr>\n",
       "    <tr>\n",
       "      <th>2</th>\n",
       "      <td>Ag2Br2S4</td>\n",
       "      <td>-3.505</td>\n",
       "    </tr>\n",
       "    <tr>\n",
       "      <th>3</th>\n",
       "      <td>Ag2Br2Se4</td>\n",
       "      <td>-3.407</td>\n",
       "    </tr>\n",
       "    <tr>\n",
       "      <th>4</th>\n",
       "      <td>Ag2Br2Te4</td>\n",
       "      <td>-2.944</td>\n",
       "    </tr>\n",
       "    <tr>\n",
       "      <th>5</th>\n",
       "      <td>Ag2Br6</td>\n",
       "      <td>-3.947</td>\n",
       "    </tr>\n",
       "    <tr>\n",
       "      <th>6</th>\n",
       "      <td>Ag2C8N6</td>\n",
       "      <td>-5.127</td>\n",
       "    </tr>\n",
       "    <tr>\n",
       "      <th>7</th>\n",
       "      <td>Ag2Cl2</td>\n",
       "      <td>-3.768</td>\n",
       "    </tr>\n",
       "    <tr>\n",
       "      <th>8</th>\n",
       "      <td>Ag2Cl2S4</td>\n",
       "      <td>-3.892</td>\n",
       "    </tr>\n",
       "    <tr>\n",
       "      <th>9</th>\n",
       "      <td>Ag2Cl2Se4</td>\n",
       "      <td>-3.655</td>\n",
       "    </tr>\n",
       "  </tbody>\n",
       "</table>\n",
       "</div>"
      ],
      "text/plain": [
       "     Formula  Val. band maximum\n",
       "0  Ag2Au2Cl8             -5.449\n",
       "1     Ag2Br2             -3.528\n",
       "2   Ag2Br2S4             -3.505\n",
       "3  Ag2Br2Se4             -3.407\n",
       "4  Ag2Br2Te4             -2.944\n",
       "5     Ag2Br6             -3.947\n",
       "6    Ag2C8N6             -5.127\n",
       "7     Ag2Cl2             -3.768\n",
       "8   Ag2Cl2S4             -3.892\n",
       "9  Ag2Cl2Se4             -3.655"
      ]
     },
     "execution_count": 4,
     "metadata": {},
     "output_type": "execute_result"
    }
   ],
   "source": [
    "import pandas as pd\n",
    "\n",
    "df = pd.read_csv('../data/C2DB_VBM.csv')\n",
    "\n",
    "df.head(10)"
   ]
  },
  {
   "cell_type": "code",
   "execution_count": 5,
   "metadata": {},
   "outputs": [
    {
     "data": {
      "text/plain": [
       "'Val. band maximum'"
      ]
     },
     "execution_count": 5,
     "metadata": {},
     "output_type": "execute_result"
    }
   ],
   "source": [
    "list(df.columns)[1]"
   ]
  },
  {
   "cell_type": "code",
   "execution_count": 6,
   "metadata": {
    "colab": {
     "base_uri": "https://localhost:8080/",
     "height": 206
    },
    "executionInfo": {
     "elapsed": 19,
     "status": "ok",
     "timestamp": 1652345721764,
     "user": {
      "displayName": "Athul Krishna",
      "userId": "17952052837509004747"
     },
     "user_tz": -330
    },
    "id": "wRFmw2l8W3V8",
    "outputId": "07e712f1-0aa9-4988-dd7f-93532e2dbec1"
   },
   "outputs": [
    {
     "data": {
      "text/html": [
       "<div>\n",
       "<style scoped>\n",
       "    .dataframe tbody tr th:only-of-type {\n",
       "        vertical-align: middle;\n",
       "    }\n",
       "\n",
       "    .dataframe tbody tr th {\n",
       "        vertical-align: top;\n",
       "    }\n",
       "\n",
       "    .dataframe thead th {\n",
       "        text-align: right;\n",
       "    }\n",
       "</style>\n",
       "<table border=\"1\" class=\"dataframe\">\n",
       "  <thead>\n",
       "    <tr style=\"text-align: right;\">\n",
       "      <th></th>\n",
       "      <th>formula</th>\n",
       "      <th>target</th>\n",
       "    </tr>\n",
       "  </thead>\n",
       "  <tbody>\n",
       "    <tr>\n",
       "      <th>0</th>\n",
       "      <td>Ag2Au2Cl8</td>\n",
       "      <td>-5.449</td>\n",
       "    </tr>\n",
       "    <tr>\n",
       "      <th>1</th>\n",
       "      <td>Ag2Br2</td>\n",
       "      <td>-3.528</td>\n",
       "    </tr>\n",
       "    <tr>\n",
       "      <th>2</th>\n",
       "      <td>Ag2Br2S4</td>\n",
       "      <td>-3.505</td>\n",
       "    </tr>\n",
       "    <tr>\n",
       "      <th>3</th>\n",
       "      <td>Ag2Br2Se4</td>\n",
       "      <td>-3.407</td>\n",
       "    </tr>\n",
       "    <tr>\n",
       "      <th>4</th>\n",
       "      <td>Ag2Br2Te4</td>\n",
       "      <td>-2.944</td>\n",
       "    </tr>\n",
       "  </tbody>\n",
       "</table>\n",
       "</div>"
      ],
      "text/plain": [
       "     formula  target\n",
       "0  Ag2Au2Cl8  -5.449\n",
       "1     Ag2Br2  -3.528\n",
       "2   Ag2Br2S4  -3.505\n",
       "3  Ag2Br2Se4  -3.407\n",
       "4  Ag2Br2Te4  -2.944"
      ]
     },
     "execution_count": 6,
     "metadata": {},
     "output_type": "execute_result"
    }
   ],
   "source": [
    "rename_dict = {'Formula': 'formula', list(df.columns)[1]: 'target'}\n",
    "df = df.rename(columns=rename_dict)\n",
    "df.head()"
   ]
  },
  {
   "cell_type": "code",
   "execution_count": 7,
   "metadata": {
    "colab": {
     "base_uri": "https://localhost:8080/"
    },
    "executionInfo": {
     "elapsed": 2625,
     "status": "ok",
     "timestamp": 1652345963596,
     "user": {
      "displayName": "Athul Krishna",
      "userId": "17952052837509004747"
     },
     "user_tz": -330
    },
    "id": "a8jOS-GrW8LP",
    "outputId": "beb8fd2e-34ef-4eb1-f6ed-3749f5b39a28"
   },
   "outputs": [
    {
     "name": "stderr",
     "output_type": "stream",
     "text": [
      "Processing Input Data: 100%|█████████████| 1216/1216 [00:00<00:00, 27551.77it/s]\n"
     ]
    },
    {
     "name": "stdout",
     "output_type": "stream",
     "text": [
      "\tFeaturizing Compositions...\n"
     ]
    },
    {
     "name": "stderr",
     "output_type": "stream",
     "text": [
      "Assigning Features...: 100%|█████████████| 1216/1216 [00:00<00:00, 11343.17it/s]"
     ]
    },
    {
     "name": "stdout",
     "output_type": "stream",
     "text": [
      "\tCreating Pandas Objects...\n"
     ]
    },
    {
     "name": "stderr",
     "output_type": "stream",
     "text": [
      "\n"
     ]
    }
   ],
   "source": [
    "X_train_unscaled0, y_train0, formulae_train, skipped_train = generate_features(df, elem_prop='magpie', drop_duplicates=False, extend_features=False, sum_feat=True)"
   ]
  },
  {
   "cell_type": "code",
   "execution_count": 8,
   "metadata": {
    "executionInfo": {
     "elapsed": 54,
     "status": "ok",
     "timestamp": 1652345963598,
     "user": {
      "displayName": "Athul Krishna",
      "userId": "17952052837509004747"
     },
     "user_tz": -330
    },
    "id": "I9iLp-ShLcam"
   },
   "outputs": [],
   "source": [
    "SEED = 42\n",
    "X_train_unscaled1, X_test_unscaled, y_train1, y_test = train_test_split(X_train_unscaled0, y_train0, test_size=0.20, random_state=SEED)"
   ]
  },
  {
   "cell_type": "code",
   "execution_count": 9,
   "metadata": {
    "executionInfo": {
     "elapsed": 10,
     "status": "ok",
     "timestamp": 1652345997356,
     "user": {
      "displayName": "Athul Krishna",
      "userId": "17952052837509004747"
     },
     "user_tz": -330
    },
    "id": "8myzySl3XZqj"
   },
   "outputs": [],
   "source": [
    "scaler = StandardScaler()\n",
    "\n",
    "X_train = scaler.fit_transform(X_train_unscaled1)\n",
    "# X_val = scaler.transform(X_val_unscaled)\n",
    "X_test = scaler.transform(X_test_unscaled)"
   ]
  },
  {
   "cell_type": "code",
   "execution_count": 20,
   "metadata": {
    "colab": {
     "base_uri": "https://localhost:8080/"
    },
    "executionInfo": {
     "elapsed": 16673,
     "status": "ok",
     "timestamp": 1652346015789,
     "user": {
      "displayName": "Athul Krishna",
      "userId": "17952052837509004747"
     },
     "user_tz": -330
    },
    "id": "eMv99cIzLXef",
    "outputId": "dc589b53-37e2-4221-8e78-83c357a1091f"
   },
   "outputs": [
    {
     "name": "stdout",
     "output_type": "stream",
     "text": [
      "Finished fitting best model, total time: 2.25 s\n"
     ]
    }
   ],
   "source": [
    "from time import time\n",
    "ti = time()\n",
    "\n",
    "# model = ExtraTreesRegressor()\n",
    "model = ExtraTreesRegressor(min_samples_leaf = 1, min_samples_split = 2,  n_estimators = 150)\n",
    "\n",
    "model.fit(X_train, y_train1)\n",
    "\n",
    "dt = time() - ti\n",
    "print(f'Finished fitting best model, total time: {dt:0.2f} s')"
   ]
  },
  {
   "cell_type": "code",
   "execution_count": 21,
   "metadata": {
    "colab": {
     "base_uri": "https://localhost:8080/"
    },
    "executionInfo": {
     "elapsed": 1989,
     "status": "ok",
     "timestamp": 1652034744921,
     "user": {
      "displayName": "Athul Krishna",
      "userId": "17952052837509004747"
     },
     "user_tz": -330
    },
    "id": "Xkemso-9gZwo",
    "outputId": "cc092859-093c-4609-cac0-55b154f69a2d"
   },
   "outputs": [],
   "source": [
    "# #save model\n",
    "# from joblib import dump, load\n",
    "# dump(model, '/content/drive/MyDrive/jupyter/2D/save_model/oliynyk_ExtraTreesRegressor_HPO.joblib') \n",
    "# #load model\n",
    "# # model = load('/content/drive/MyDrive/jupyter/2D/save_model/oliynyk_ExtraTreesRegressor.joblib') "
   ]
  },
  {
   "cell_type": "code",
   "execution_count": 22,
   "metadata": {
    "colab": {
     "base_uri": "https://localhost:8080/"
    },
    "executionInfo": {
     "elapsed": 30,
     "status": "ok",
     "timestamp": 1652346015790,
     "user": {
      "displayName": "Athul Krishna",
      "userId": "17952052837509004747"
     },
     "user_tz": -330
    },
    "id": "zIovC0czInVg",
    "outputId": "4c072ff4-aa22-4e04-a4c2-5e4c0f72bf84"
   },
   "outputs": [
    {
     "name": "stdout",
     "output_type": "stream",
     "text": [
      "r2: 0.8244\n",
      "mae: 0.5275\n",
      "rmse: 0.7372\n"
     ]
    }
   ],
   "source": [
    "y_act_test = y_test\n",
    "y_pred_test = model.predict(X_test)\n",
    "\n",
    "r2 = r2_score(y_act_test, y_pred_test)\n",
    "mae = mean_absolute_error(y_act_test, y_pred_test)\n",
    "rmse = mean_squared_error(y_act_test, y_pred_test, squared=False)\n",
    "print(f'r2: {r2:0.4f}')\n",
    "print(f'mae: {mae:0.4f}')\n",
    "print(f'rmse: {rmse:0.4f}')\n"
   ]
  },
  {
   "cell_type": "code",
   "execution_count": 23,
   "metadata": {
    "colab": {
     "base_uri": "https://localhost:8080/",
     "height": 421
    },
    "executionInfo": {
     "elapsed": 2008,
     "status": "ok",
     "timestamp": 1652346017772,
     "user": {
      "displayName": "Athul Krishna",
      "userId": "17952052837509004747"
     },
     "user_tz": -330
    },
    "id": "P0qNPaDqa45U",
    "outputId": "6a0a06f7-d43f-475c-95a9-541e802a2800"
   },
   "outputs": [
    {
     "data": {
      "text/plain": [
       "<matplotlib.legend.Legend at 0x7fe120b01040>"
      ]
     },
     "execution_count": 23,
     "metadata": {},
     "output_type": "execute_result"
    },
    {
     "data": {
      "image/png": "[encoded data removed]",
      "text/plain": [
       "<Figure size 432x432 with 1 Axes>"
      ]
     },
     "metadata": {
      "image/png": {
       "height": 374,
       "width": 384
      },
      "needs_background": "light"
     },
     "output_type": "display_data"
    }
   ],
   "source": [
    "reg_line=True # set true or false\n",
    "xy_max = np.max([np.max(y_act_test), np.max(y_pred_test)])\n",
    "\n",
    "plot = plt.figure(figsize=(6,6))\n",
    "plt.plot(y_act_test, y_pred_test, 'o', ms=9, mec='k', mfc='silver', alpha=0.4)\n",
    "plt.plot([0, xy_max], [0, xy_max], 'k--', label='ideal')\n",
    "if reg_line:\n",
    "    polyfit = np.polyfit(y_act_test, y_pred_test, deg=1)\n",
    "    reg_ys = np.poly1d(polyfit)(np.unique(y_act_test))\n",
    "    plt.plot(np.unique(y_act_test), reg_ys, alpha=0.8, label='linear fit')\n",
    "plt.axis('scaled')\n",
    "label=' '\n",
    "plt.xlabel(f'Actual {label}')\n",
    "plt.ylabel(f'Predicted {label}')\n",
    "plt.title(f'{type(model).__name__}, r2: {r2_score(y_act_test, y_pred_test):0.4f}')\n",
    "plt.legend(loc='upper left')\n"
   ]
  },
  {
   "cell_type": "markdown",
   "metadata": {
    "id": "S6MlkSZfdtEg"
   },
   "source": [
    "Saving final model"
   ]
  },
  {
   "cell_type": "code",
   "execution_count": 24,
   "metadata": {
    "executionInfo": {
     "elapsed": 10,
     "status": "ok",
     "timestamp": 1652346090055,
     "user": {
      "displayName": "Athul Krishna",
      "userId": "17952052837509004747"
     },
     "user_tz": -330
    },
    "id": "sA29bWDyaDRQ"
   },
   "outputs": [],
   "source": [
    "scaler = StandardScaler()\n",
    "\n",
    "X_train0 = scaler.fit_transform(X_train_unscaled0)\n",
    "# X_val = scaler.transform(X_val_unscaled)\n",
    "# X_test = scaler.transform(X_test_unscaled)"
   ]
  },
  {
   "cell_type": "code",
   "execution_count": 25,
   "metadata": {
    "colab": {
     "base_uri": "https://localhost:8080/"
    },
    "executionInfo": {
     "elapsed": 23369,
     "status": "ok",
     "timestamp": 1652346120032,
     "user": {
      "displayName": "Athul Krishna",
      "userId": "17952052837509004747"
     },
     "user_tz": -330
    },
    "id": "IM4Tc-mSePjB",
    "outputId": "740edc70-b2c2-432b-a7cf-22235c8b5d61"
   },
   "outputs": [
    {
     "name": "stdout",
     "output_type": "stream",
     "text": [
      "Finished fitting best model, total time: 2.82 s\n"
     ]
    }
   ],
   "source": [
    "from time import time\n",
    "ti = time()\n",
    "\n",
    "# model = ExtraTreesRegressor()\n",
    "model.fit(X_train0, y_train0)\n",
    "\n",
    "dt = time() - ti\n",
    "print(f'Finished fitting best model, total time: {dt:0.2f} s')"
   ]
  },
  {
   "cell_type": "code",
   "execution_count": 26,
   "metadata": {
    "colab": {
     "base_uri": "https://localhost:8080/"
    },
    "executionInfo": {
     "elapsed": 1130,
     "status": "ok",
     "timestamp": 1652346121145,
     "user": {
      "displayName": "Athul Krishna",
      "userId": "17952052837509004747"
     },
     "user_tz": -330
    },
    "id": "F7L0bvqpeWZg",
    "outputId": "aeb1312c-f937-4b18-d520-dc2427c7de8c"
   },
   "outputs": [
    {
     "data": {
      "text/plain": [
       "['../save_model/VBM_magpie_ExtraTreesRegressor_full_HPO.joblib']"
      ]
     },
     "execution_count": 26,
     "metadata": {},
     "output_type": "execute_result"
    }
   ],
   "source": [
    "# save model\n",
    "from joblib import dump, load\n",
    "dump(model, '../save_model/VBM_magpie_ExtraTreesRegressor_full_HPO.joblib') \n",
    "#load model\n",
    "# model = load('/content/drive/MyDrive/jupyter/SuperCon/save_model/oliynyk_ExtraTreesRegressor_full.joblib') "
   ]
  },
  {
   "cell_type": "code",
   "execution_count": 17,
   "metadata": {
    "id": "lIMuk_nNoFXW"
   },
   "outputs": [],
   "source": [
    "model = ExtraTreesRegressor()"
   ]
  },
  {
   "cell_type": "code",
   "execution_count": 18,
   "metadata": {
    "colab": {
     "base_uri": "https://localhost:8080/"
    },
    "executionInfo": {
     "elapsed": 2349695,
     "status": "ok",
     "timestamp": 1652301066528,
     "user": {
      "displayName": "Athul Krishna",
      "userId": "17952052837509004747"
     },
     "user_tz": -330
    },
    "id": "xCxOajgV4v7A",
    "outputId": "01185bbf-4d26-4ef2-d01c-3a9d001a9fab"
   },
   "outputs": [
    {
     "name": "stdout",
     "output_type": "stream",
     "text": [
      "682.6849753856659\n"
     ]
    },
    {
     "data": {
      "text/plain": [
       "{'min_samples_leaf': 1, 'min_samples_split': 2, 'n_estimators': 150}"
      ]
     },
     "execution_count": 18,
     "metadata": {},
     "output_type": "execute_result"
    }
   ],
   "source": [
    "from sklearn.model_selection import GridSearchCV\n",
    "from time import time\n",
    "params = [{'min_samples_leaf': [1,2,3,4],\n",
    "         'min_samples_split': [2,3,4],\n",
    "         'n_estimators': [i for i in range(50,400,50)]}]\n",
    "gs_model = GridSearchCV(model,\n",
    "                      param_grid=params,\n",
    "                      scoring='r2',\n",
    "                      cv=5)\n",
    "ti = time ()\n",
    "gs_model.fit(X_train, y_train1)\n",
    "dt = time() -ti\n",
    "print(dt)\n",
    "gs_model.best_params_"
   ]
  },
  {
   "cell_type": "code",
   "execution_count": 19,
   "metadata": {
    "colab": {
     "base_uri": "https://localhost:8080/"
    },
    "executionInfo": {
     "elapsed": 11,
     "status": "ok",
     "timestamp": 1652301068287,
     "user": {
      "displayName": "Athul Krishna",
      "userId": "17952052837509004747"
     },
     "user_tz": -330
    },
    "id": "ViiY_WOM5FJA",
    "outputId": "0df39fca-088f-4b84-b99d-683037c39311"
   },
   "outputs": [
    {
     "data": {
      "text/plain": [
       "1.0"
      ]
     },
     "execution_count": 19,
     "metadata": {},
     "output_type": "execute_result"
    }
   ],
   "source": [
    "# find best model score\n",
    "gs_model.score(X_train, y_train1)"
   ]
  },
  {
   "cell_type": "code",
   "execution_count": null,
   "metadata": {
    "id": "sTRXGw9sNNjO"
   },
   "outputs": [],
   "source": []
  }
 ],
 "metadata": {
  "colab": {
   "authorship_tag": "ABX9TyPFxGSEGsDo2bcCyxCoRWaM",
   "collapsed_sections": [],
   "name": "3-oliynyk_ExtraTreesRegressor_HPO.ipynb",
   "provenance": []
  },
  "kernelspec": {
   "display_name": "Python 3 (ipykernel)",
   "language": "python",
   "name": "python3"
  },
  "language_info": {
   "codemirror_mode": {
    "name": "ipython",
    "version": 3
   },
   "file_extension": ".py",
   "mimetype": "text/x-python",
   "name": "python",
   "nbconvert_exporter": "python",
   "pygments_lexer": "ipython3",
   "version": "3.9.7"
  }
 },
 "nbformat": 4,
 "nbformat_minor": 4
}
