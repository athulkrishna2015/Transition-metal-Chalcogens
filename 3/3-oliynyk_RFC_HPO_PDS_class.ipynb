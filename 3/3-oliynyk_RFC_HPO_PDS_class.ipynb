{
  "cells": [
    {
      "cell_type": "code",
      "execution_count": 1,
      "metadata": {
        "colab": {
          "base_uri": "https://localhost:8080/"
        },
        "id": "f8cpBAguV89-",
        "outputId": "2ff9a85d-5841-4e1e-ccfb-fc9d98ac7473"
      },
      "outputs": [
        {
          "output_type": "stream",
          "name": "stdout",
          "text": [
            "Collecting CBFV\n",
            "  Downloading CBFV-1.1.0-py3-none-any.whl (539 kB)\n",
            "\u001b[?25l\r\u001b[K     |▋                               | 10 kB 23.8 MB/s eta 0:00:01\r\u001b[K     |█▏                              | 20 kB 27.1 MB/s eta 0:00:01\r\u001b[K     |█▉                              | 30 kB 31.8 MB/s eta 0:00:01\r\u001b[K     |██▍                             | 40 kB 25.3 MB/s eta 0:00:01\r\u001b[K     |███                             | 51 kB 9.2 MB/s eta 0:00:01\r\u001b[K     |███▋                            | 61 kB 10.7 MB/s eta 0:00:01\r\u001b[K     |████▎                           | 71 kB 9.9 MB/s eta 0:00:01\r\u001b[K     |████▉                           | 81 kB 10.8 MB/s eta 0:00:01\r\u001b[K     |█████▌                          | 92 kB 11.9 MB/s eta 0:00:01\r\u001b[K     |██████                          | 102 kB 10.3 MB/s eta 0:00:01\r\u001b[K     |██████▊                         | 112 kB 10.3 MB/s eta 0:00:01\r\u001b[K     |███████▎                        | 122 kB 10.3 MB/s eta 0:00:01\r\u001b[K     |████████                        | 133 kB 10.3 MB/s eta 0:00:01\r\u001b[K     |████████▌                       | 143 kB 10.3 MB/s eta 0:00:01\r\u001b[K     |█████████▏                      | 153 kB 10.3 MB/s eta 0:00:01\r\u001b[K     |█████████▊                      | 163 kB 10.3 MB/s eta 0:00:01\r\u001b[K     |██████████▎                     | 174 kB 10.3 MB/s eta 0:00:01\r\u001b[K     |███████████                     | 184 kB 10.3 MB/s eta 0:00:01\r\u001b[K     |███████████▌                    | 194 kB 10.3 MB/s eta 0:00:01\r\u001b[K     |████████████▏                   | 204 kB 10.3 MB/s eta 0:00:01\r\u001b[K     |████████████▊                   | 215 kB 10.3 MB/s eta 0:00:01\r\u001b[K     |█████████████▍                  | 225 kB 10.3 MB/s eta 0:00:01\r\u001b[K     |██████████████                  | 235 kB 10.3 MB/s eta 0:00:01\r\u001b[K     |██████████████▋                 | 245 kB 10.3 MB/s eta 0:00:01\r\u001b[K     |███████████████▏                | 256 kB 10.3 MB/s eta 0:00:01\r\u001b[K     |███████████████▉                | 266 kB 10.3 MB/s eta 0:00:01\r\u001b[K     |████████████████▍               | 276 kB 10.3 MB/s eta 0:00:01\r\u001b[K     |█████████████████               | 286 kB 10.3 MB/s eta 0:00:01\r\u001b[K     |█████████████████▋              | 296 kB 10.3 MB/s eta 0:00:01\r\u001b[K     |██████████████████▎             | 307 kB 10.3 MB/s eta 0:00:01\r\u001b[K     |██████████████████▉             | 317 kB 10.3 MB/s eta 0:00:01\r\u001b[K     |███████████████████▌            | 327 kB 10.3 MB/s eta 0:00:01\r\u001b[K     |████████████████████            | 337 kB 10.3 MB/s eta 0:00:01\r\u001b[K     |████████████████████▋           | 348 kB 10.3 MB/s eta 0:00:01\r\u001b[K     |█████████████████████▎          | 358 kB 10.3 MB/s eta 0:00:01\r\u001b[K     |█████████████████████▉          | 368 kB 10.3 MB/s eta 0:00:01\r\u001b[K     |██████████████████████▌         | 378 kB 10.3 MB/s eta 0:00:01\r\u001b[K     |███████████████████████         | 389 kB 10.3 MB/s eta 0:00:01\r\u001b[K     |███████████████████████▊        | 399 kB 10.3 MB/s eta 0:00:01\r\u001b[K     |████████████████████████▎       | 409 kB 10.3 MB/s eta 0:00:01\r\u001b[K     |█████████████████████████       | 419 kB 10.3 MB/s eta 0:00:01\r\u001b[K     |█████████████████████████▌      | 430 kB 10.3 MB/s eta 0:00:01\r\u001b[K     |██████████████████████████▏     | 440 kB 10.3 MB/s eta 0:00:01\r\u001b[K     |██████████████████████████▊     | 450 kB 10.3 MB/s eta 0:00:01\r\u001b[K     |███████████████████████████▍    | 460 kB 10.3 MB/s eta 0:00:01\r\u001b[K     |████████████████████████████    | 471 kB 10.3 MB/s eta 0:00:01\r\u001b[K     |████████████████████████████▋   | 481 kB 10.3 MB/s eta 0:00:01\r\u001b[K     |█████████████████████████████▏  | 491 kB 10.3 MB/s eta 0:00:01\r\u001b[K     |█████████████████████████████▊  | 501 kB 10.3 MB/s eta 0:00:01\r\u001b[K     |██████████████████████████████▍ | 512 kB 10.3 MB/s eta 0:00:01\r\u001b[K     |███████████████████████████████ | 522 kB 10.3 MB/s eta 0:00:01\r\u001b[K     |███████████████████████████████▋| 532 kB 10.3 MB/s eta 0:00:01\r\u001b[K     |████████████████████████████████| 539 kB 10.3 MB/s \n",
            "\u001b[?25hRequirement already satisfied: pytest in /usr/local/lib/python3.7/dist-packages (from CBFV) (3.6.4)\n",
            "Requirement already satisfied: pandas in /usr/local/lib/python3.7/dist-packages (from CBFV) (1.3.5)\n",
            "Requirement already satisfied: numpy in /usr/local/lib/python3.7/dist-packages (from CBFV) (1.21.6)\n",
            "Requirement already satisfied: tqdm in /usr/local/lib/python3.7/dist-packages (from CBFV) (4.64.0)\n",
            "Requirement already satisfied: pytz>=2017.3 in /usr/local/lib/python3.7/dist-packages (from pandas->CBFV) (2022.1)\n",
            "Requirement already satisfied: python-dateutil>=2.7.3 in /usr/local/lib/python3.7/dist-packages (from pandas->CBFV) (2.8.2)\n",
            "Requirement already satisfied: six>=1.5 in /usr/local/lib/python3.7/dist-packages (from python-dateutil>=2.7.3->pandas->CBFV) (1.15.0)\n",
            "Requirement already satisfied: more-itertools>=4.0.0 in /usr/local/lib/python3.7/dist-packages (from pytest->CBFV) (8.13.0)\n",
            "Requirement already satisfied: setuptools in /usr/local/lib/python3.7/dist-packages (from pytest->CBFV) (57.4.0)\n",
            "Requirement already satisfied: py>=1.5.0 in /usr/local/lib/python3.7/dist-packages (from pytest->CBFV) (1.11.0)\n",
            "Requirement already satisfied: pluggy<0.8,>=0.5 in /usr/local/lib/python3.7/dist-packages (from pytest->CBFV) (0.7.1)\n",
            "Requirement already satisfied: attrs>=17.4.0 in /usr/local/lib/python3.7/dist-packages (from pytest->CBFV) (21.4.0)\n",
            "Requirement already satisfied: atomicwrites>=1.0 in /usr/local/lib/python3.7/dist-packages (from pytest->CBFV) (1.4.0)\n",
            "Installing collected packages: CBFV\n",
            "Successfully installed CBFV-1.1.0\n"
          ]
        }
      ],
      "source": [
        "!pip install CBFV"
      ]
    },
    {
      "cell_type": "code",
      "execution_count": 2,
      "metadata": {
        "id": "_f42yHu9WfOD"
      },
      "outputs": [],
      "source": [
        "import os\n",
        "import pandas as pd\n",
        "import numpy as np\n",
        "import matplotlib.pyplot as plt\n",
        "%matplotlib inline\n",
        "%config InlineBackend.figure_format='retina'\n",
        "\n",
        "from sklearn.model_selection import train_test_split\n",
        "from sklearn.preprocessing import StandardScaler\n",
        "from sklearn.preprocessing import normalize\n",
        "from sklearn.ensemble import RandomForestClassifier\n",
        "from sklearn.metrics import r2_score\n",
        "from sklearn.metrics import mean_absolute_error\n",
        "from sklearn.metrics import mean_squared_error\n",
        "\n",
        "from CBFV.composition import generate_features"
      ]
    },
    {
      "cell_type": "code",
      "execution_count": 3,
      "metadata": {
        "colab": {
          "base_uri": "https://localhost:8080/"
        },
        "id": "f-8d_W4LWC8Y",
        "outputId": "44062c5b-384d-4fc2-ea2b-e61ccdb5015f"
      },
      "outputs": [
        {
          "output_type": "stream",
          "name": "stdout",
          "text": [
            "Mounted at /content/drive\n"
          ]
        }
      ],
      "source": [
        "from google.colab import drive\n",
        "drive.mount('/content/drive')"
      ]
    },
    {
      "cell_type": "code",
      "execution_count": 4,
      "metadata": {
        "colab": {
          "base_uri": "https://localhost:8080/",
          "height": 363
        },
        "id": "04cP0jkTWPRs",
        "outputId": "d939c7a0-1756-4fd2-cb44-02cac6fba4b8"
      },
      "outputs": [
        {
          "output_type": "execute_result",
          "data": {
            "text/plain": [
              "     Formula  Phonon dynamic stability (low/high)\n",
              "0  Ag2Au2Cl8                                  1.0\n",
              "1     Ag2Br2                                  1.0\n",
              "2   Ag2Br2N2                                  0.0\n",
              "3   Ag2Br2O2                                  0.0\n",
              "4   Ag2Br2S2                                  0.0\n",
              "5   Ag2Br2S4                                  1.0\n",
              "6  Ag2Br2Se2                                  0.0\n",
              "7  Ag2Br2Se4                                  1.0\n",
              "8  Ag2Br2Te4                                  1.0\n",
              "9     Ag2Br4                                  0.0"
            ],
            "text/html": [
              "\n",
              "  <div id=\"df-8295d6e2-48da-4e7c-8416-0a23fb02e8bc\">\n",
              "    <div class=\"colab-df-container\">\n",
              "      <div>\n",
              "<style scoped>\n",
              "    .dataframe tbody tr th:only-of-type {\n",
              "        vertical-align: middle;\n",
              "    }\n",
              "\n",
              "    .dataframe tbody tr th {\n",
              "        vertical-align: top;\n",
              "    }\n",
              "\n",
              "    .dataframe thead th {\n",
              "        text-align: right;\n",
              "    }\n",
              "</style>\n",
              "<table border=\"1\" class=\"dataframe\">\n",
              "  <thead>\n",
              "    <tr style=\"text-align: right;\">\n",
              "      <th></th>\n",
              "      <th>Formula</th>\n",
              "      <th>Phonon dynamic stability (low/high)</th>\n",
              "    </tr>\n",
              "  </thead>\n",
              "  <tbody>\n",
              "    <tr>\n",
              "      <th>0</th>\n",
              "      <td>Ag2Au2Cl8</td>\n",
              "      <td>1.0</td>\n",
              "    </tr>\n",
              "    <tr>\n",
              "      <th>1</th>\n",
              "      <td>Ag2Br2</td>\n",
              "      <td>1.0</td>\n",
              "    </tr>\n",
              "    <tr>\n",
              "      <th>2</th>\n",
              "      <td>Ag2Br2N2</td>\n",
              "      <td>0.0</td>\n",
              "    </tr>\n",
              "    <tr>\n",
              "      <th>3</th>\n",
              "      <td>Ag2Br2O2</td>\n",
              "      <td>0.0</td>\n",
              "    </tr>\n",
              "    <tr>\n",
              "      <th>4</th>\n",
              "      <td>Ag2Br2S2</td>\n",
              "      <td>0.0</td>\n",
              "    </tr>\n",
              "    <tr>\n",
              "      <th>5</th>\n",
              "      <td>Ag2Br2S4</td>\n",
              "      <td>1.0</td>\n",
              "    </tr>\n",
              "    <tr>\n",
              "      <th>6</th>\n",
              "      <td>Ag2Br2Se2</td>\n",
              "      <td>0.0</td>\n",
              "    </tr>\n",
              "    <tr>\n",
              "      <th>7</th>\n",
              "      <td>Ag2Br2Se4</td>\n",
              "      <td>1.0</td>\n",
              "    </tr>\n",
              "    <tr>\n",
              "      <th>8</th>\n",
              "      <td>Ag2Br2Te4</td>\n",
              "      <td>1.0</td>\n",
              "    </tr>\n",
              "    <tr>\n",
              "      <th>9</th>\n",
              "      <td>Ag2Br4</td>\n",
              "      <td>0.0</td>\n",
              "    </tr>\n",
              "  </tbody>\n",
              "</table>\n",
              "</div>\n",
              "      <button class=\"colab-df-convert\" onclick=\"convertToInteractive('df-8295d6e2-48da-4e7c-8416-0a23fb02e8bc')\"\n",
              "              title=\"Convert this dataframe to an interactive table.\"\n",
              "              style=\"display:none;\">\n",
              "        \n",
              "  <svg xmlns=\"http://www.w3.org/2000/svg\" height=\"24px\"viewBox=\"0 0 24 24\"\n",
              "       width=\"24px\">\n",
              "    <path d=\"M0 0h24v24H0V0z\" fill=\"none\"/>\n",
              "    <path d=\"M18.56 5.44l.94 2.06.94-2.06 2.06-.94-2.06-.94-.94-2.06-.94 2.06-2.06.94zm-11 1L8.5 8.5l.94-2.06 2.06-.94-2.06-.94L8.5 2.5l-.94 2.06-2.06.94zm10 10l.94 2.06.94-2.06 2.06-.94-2.06-.94-.94-2.06-.94 2.06-2.06.94z\"/><path d=\"M17.41 7.96l-1.37-1.37c-.4-.4-.92-.59-1.43-.59-.52 0-1.04.2-1.43.59L10.3 9.45l-7.72 7.72c-.78.78-.78 2.05 0 2.83L4 21.41c.39.39.9.59 1.41.59.51 0 1.02-.2 1.41-.59l7.78-7.78 2.81-2.81c.8-.78.8-2.07 0-2.86zM5.41 20L4 18.59l7.72-7.72 1.47 1.35L5.41 20z\"/>\n",
              "  </svg>\n",
              "      </button>\n",
              "      \n",
              "  <style>\n",
              "    .colab-df-container {\n",
              "      display:flex;\n",
              "      flex-wrap:wrap;\n",
              "      gap: 12px;\n",
              "    }\n",
              "\n",
              "    .colab-df-convert {\n",
              "      background-color: #E8F0FE;\n",
              "      border: none;\n",
              "      border-radius: 50%;\n",
              "      cursor: pointer;\n",
              "      display: none;\n",
              "      fill: #1967D2;\n",
              "      height: 32px;\n",
              "      padding: 0 0 0 0;\n",
              "      width: 32px;\n",
              "    }\n",
              "\n",
              "    .colab-df-convert:hover {\n",
              "      background-color: #E2EBFA;\n",
              "      box-shadow: 0px 1px 2px rgba(60, 64, 67, 0.3), 0px 1px 3px 1px rgba(60, 64, 67, 0.15);\n",
              "      fill: #174EA6;\n",
              "    }\n",
              "\n",
              "    [theme=dark] .colab-df-convert {\n",
              "      background-color: #3B4455;\n",
              "      fill: #D2E3FC;\n",
              "    }\n",
              "\n",
              "    [theme=dark] .colab-df-convert:hover {\n",
              "      background-color: #434B5C;\n",
              "      box-shadow: 0px 1px 3px 1px rgba(0, 0, 0, 0.15);\n",
              "      filter: drop-shadow(0px 1px 2px rgba(0, 0, 0, 0.3));\n",
              "      fill: #FFFFFF;\n",
              "    }\n",
              "  </style>\n",
              "\n",
              "      <script>\n",
              "        const buttonEl =\n",
              "          document.querySelector('#df-8295d6e2-48da-4e7c-8416-0a23fb02e8bc button.colab-df-convert');\n",
              "        buttonEl.style.display =\n",
              "          google.colab.kernel.accessAllowed ? 'block' : 'none';\n",
              "\n",
              "        async function convertToInteractive(key) {\n",
              "          const element = document.querySelector('#df-8295d6e2-48da-4e7c-8416-0a23fb02e8bc');\n",
              "          const dataTable =\n",
              "            await google.colab.kernel.invokeFunction('convertToInteractive',\n",
              "                                                     [key], {});\n",
              "          if (!dataTable) return;\n",
              "\n",
              "          const docLinkHtml = 'Like what you see? Visit the ' +\n",
              "            '<a target=\"_blank\" href=https://colab.research.google.com/notebooks/data_table.ipynb>data table notebook</a>'\n",
              "            + ' to learn more about interactive tables.';\n",
              "          element.innerHTML = '';\n",
              "          dataTable['output_type'] = 'display_data';\n",
              "          await google.colab.output.renderOutput(dataTable, element);\n",
              "          const docLink = document.createElement('div');\n",
              "          docLink.innerHTML = docLinkHtml;\n",
              "          element.appendChild(docLink);\n",
              "        }\n",
              "      </script>\n",
              "    </div>\n",
              "  </div>\n",
              "  "
            ]
          },
          "metadata": {},
          "execution_count": 4
        }
      ],
      "source": [
        "import pandas as pd\n",
        "\n",
        "df = pd.read_csv('/content/drive/MyDrive/jupyter/2D/data/C2DB_PDS.csv')\n",
        "\n",
        "df.head(10)"
      ]
    },
    {
      "cell_type": "code",
      "execution_count": 5,
      "metadata": {
        "colab": {
          "base_uri": "https://localhost:8080/",
          "height": 38
        },
        "id": "5VO-0nLS3ugj",
        "outputId": "24bd20c1-9ffa-4a34-9350-0f7767f8c994"
      },
      "outputs": [
        {
          "output_type": "execute_result",
          "data": {
            "text/plain": [
              "'Phonon dynamic stability (low/high)'"
            ],
            "application/vnd.google.colaboratory.intrinsic+json": {
              "type": "string"
            }
          },
          "metadata": {},
          "execution_count": 5
        }
      ],
      "source": [
        "list(df.columns)[1]"
      ]
    },
    {
      "cell_type": "code",
      "execution_count": 6,
      "metadata": {
        "colab": {
          "base_uri": "https://localhost:8080/",
          "height": 206
        },
        "id": "wRFmw2l8W3V8",
        "outputId": "04c1ed65-e30b-46f9-dcaa-8cb6687a43d1"
      },
      "outputs": [
        {
          "output_type": "execute_result",
          "data": {
            "text/plain": [
              "     formula  target\n",
              "0  Ag2Au2Cl8     1.0\n",
              "1     Ag2Br2     1.0\n",
              "2   Ag2Br2N2     0.0\n",
              "3   Ag2Br2O2     0.0\n",
              "4   Ag2Br2S2     0.0"
            ],
            "text/html": [
              "\n",
              "  <div id=\"df-f80a6498-95ec-465b-8747-1efb7424781f\">\n",
              "    <div class=\"colab-df-container\">\n",
              "      <div>\n",
              "<style scoped>\n",
              "    .dataframe tbody tr th:only-of-type {\n",
              "        vertical-align: middle;\n",
              "    }\n",
              "\n",
              "    .dataframe tbody tr th {\n",
              "        vertical-align: top;\n",
              "    }\n",
              "\n",
              "    .dataframe thead th {\n",
              "        text-align: right;\n",
              "    }\n",
              "</style>\n",
              "<table border=\"1\" class=\"dataframe\">\n",
              "  <thead>\n",
              "    <tr style=\"text-align: right;\">\n",
              "      <th></th>\n",
              "      <th>formula</th>\n",
              "      <th>target</th>\n",
              "    </tr>\n",
              "  </thead>\n",
              "  <tbody>\n",
              "    <tr>\n",
              "      <th>0</th>\n",
              "      <td>Ag2Au2Cl8</td>\n",
              "      <td>1.0</td>\n",
              "    </tr>\n",
              "    <tr>\n",
              "      <th>1</th>\n",
              "      <td>Ag2Br2</td>\n",
              "      <td>1.0</td>\n",
              "    </tr>\n",
              "    <tr>\n",
              "      <th>2</th>\n",
              "      <td>Ag2Br2N2</td>\n",
              "      <td>0.0</td>\n",
              "    </tr>\n",
              "    <tr>\n",
              "      <th>3</th>\n",
              "      <td>Ag2Br2O2</td>\n",
              "      <td>0.0</td>\n",
              "    </tr>\n",
              "    <tr>\n",
              "      <th>4</th>\n",
              "      <td>Ag2Br2S2</td>\n",
              "      <td>0.0</td>\n",
              "    </tr>\n",
              "  </tbody>\n",
              "</table>\n",
              "</div>\n",
              "      <button class=\"colab-df-convert\" onclick=\"convertToInteractive('df-f80a6498-95ec-465b-8747-1efb7424781f')\"\n",
              "              title=\"Convert this dataframe to an interactive table.\"\n",
              "              style=\"display:none;\">\n",
              "        \n",
              "  <svg xmlns=\"http://www.w3.org/2000/svg\" height=\"24px\"viewBox=\"0 0 24 24\"\n",
              "       width=\"24px\">\n",
              "    <path d=\"M0 0h24v24H0V0z\" fill=\"none\"/>\n",
              "    <path d=\"M18.56 5.44l.94 2.06.94-2.06 2.06-.94-2.06-.94-.94-2.06-.94 2.06-2.06.94zm-11 1L8.5 8.5l.94-2.06 2.06-.94-2.06-.94L8.5 2.5l-.94 2.06-2.06.94zm10 10l.94 2.06.94-2.06 2.06-.94-2.06-.94-.94-2.06-.94 2.06-2.06.94z\"/><path d=\"M17.41 7.96l-1.37-1.37c-.4-.4-.92-.59-1.43-.59-.52 0-1.04.2-1.43.59L10.3 9.45l-7.72 7.72c-.78.78-.78 2.05 0 2.83L4 21.41c.39.39.9.59 1.41.59.51 0 1.02-.2 1.41-.59l7.78-7.78 2.81-2.81c.8-.78.8-2.07 0-2.86zM5.41 20L4 18.59l7.72-7.72 1.47 1.35L5.41 20z\"/>\n",
              "  </svg>\n",
              "      </button>\n",
              "      \n",
              "  <style>\n",
              "    .colab-df-container {\n",
              "      display:flex;\n",
              "      flex-wrap:wrap;\n",
              "      gap: 12px;\n",
              "    }\n",
              "\n",
              "    .colab-df-convert {\n",
              "      background-color: #E8F0FE;\n",
              "      border: none;\n",
              "      border-radius: 50%;\n",
              "      cursor: pointer;\n",
              "      display: none;\n",
              "      fill: #1967D2;\n",
              "      height: 32px;\n",
              "      padding: 0 0 0 0;\n",
              "      width: 32px;\n",
              "    }\n",
              "\n",
              "    .colab-df-convert:hover {\n",
              "      background-color: #E2EBFA;\n",
              "      box-shadow: 0px 1px 2px rgba(60, 64, 67, 0.3), 0px 1px 3px 1px rgba(60, 64, 67, 0.15);\n",
              "      fill: #174EA6;\n",
              "    }\n",
              "\n",
              "    [theme=dark] .colab-df-convert {\n",
              "      background-color: #3B4455;\n",
              "      fill: #D2E3FC;\n",
              "    }\n",
              "\n",
              "    [theme=dark] .colab-df-convert:hover {\n",
              "      background-color: #434B5C;\n",
              "      box-shadow: 0px 1px 3px 1px rgba(0, 0, 0, 0.15);\n",
              "      filter: drop-shadow(0px 1px 2px rgba(0, 0, 0, 0.3));\n",
              "      fill: #FFFFFF;\n",
              "    }\n",
              "  </style>\n",
              "\n",
              "      <script>\n",
              "        const buttonEl =\n",
              "          document.querySelector('#df-f80a6498-95ec-465b-8747-1efb7424781f button.colab-df-convert');\n",
              "        buttonEl.style.display =\n",
              "          google.colab.kernel.accessAllowed ? 'block' : 'none';\n",
              "\n",
              "        async function convertToInteractive(key) {\n",
              "          const element = document.querySelector('#df-f80a6498-95ec-465b-8747-1efb7424781f');\n",
              "          const dataTable =\n",
              "            await google.colab.kernel.invokeFunction('convertToInteractive',\n",
              "                                                     [key], {});\n",
              "          if (!dataTable) return;\n",
              "\n",
              "          const docLinkHtml = 'Like what you see? Visit the ' +\n",
              "            '<a target=\"_blank\" href=https://colab.research.google.com/notebooks/data_table.ipynb>data table notebook</a>'\n",
              "            + ' to learn more about interactive tables.';\n",
              "          element.innerHTML = '';\n",
              "          dataTable['output_type'] = 'display_data';\n",
              "          await google.colab.output.renderOutput(dataTable, element);\n",
              "          const docLink = document.createElement('div');\n",
              "          docLink.innerHTML = docLinkHtml;\n",
              "          element.appendChild(docLink);\n",
              "        }\n",
              "      </script>\n",
              "    </div>\n",
              "  </div>\n",
              "  "
            ]
          },
          "metadata": {},
          "execution_count": 6
        }
      ],
      "source": [
        "rename_dict = {'Formula': 'formula', list(df.columns)[1]: 'target'}\n",
        "df = df.rename(columns=rename_dict)\n",
        "df.head()"
      ]
    },
    {
      "cell_type": "code",
      "execution_count": 7,
      "metadata": {
        "colab": {
          "base_uri": "https://localhost:8080/"
        },
        "id": "a8jOS-GrW8LP",
        "outputId": "0920e7f4-bc65-4044-a86b-d0c288adf3aa"
      },
      "outputs": [
        {
          "output_type": "stream",
          "name": "stderr",
          "text": [
            "Processing Input Data: 100%|██████████| 2735/2735 [00:00<00:00, 6288.56it/s]\n"
          ]
        },
        {
          "output_type": "stream",
          "name": "stdout",
          "text": [
            "\tFeaturizing Compositions...\n"
          ]
        },
        {
          "output_type": "stream",
          "name": "stderr",
          "text": [
            "Assigning Features...: 100%|██████████| 2735/2735 [00:00<00:00, 4249.88it/s]\n"
          ]
        },
        {
          "output_type": "stream",
          "name": "stdout",
          "text": [
            "\tCreating Pandas Objects...\n"
          ]
        }
      ],
      "source": [
        "X_train_unscaled0, y_train0, formulae_train, skipped_train = generate_features(df, elem_prop='oliynyk', drop_duplicates=False, extend_features=False, sum_feat=True)"
      ]
    },
    {
      "cell_type": "code",
      "execution_count": 8,
      "metadata": {
        "id": "I9iLp-ShLcam"
      },
      "outputs": [],
      "source": [
        "SEED = 42\n",
        "X_train_unscaled1, X_test_unscaled, y_train1, y_test = train_test_split(X_train_unscaled0, y_train0, test_size=0.20, random_state=SEED)"
      ]
    },
    {
      "cell_type": "code",
      "execution_count": 9,
      "metadata": {
        "id": "8myzySl3XZqj"
      },
      "outputs": [],
      "source": [
        "scaler = StandardScaler()\n",
        "\n",
        "X_train = scaler.fit_transform(X_train_unscaled1)\n",
        "# X_val = scaler.transform(X_val_unscaled)\n",
        "X_test = scaler.transform(X_test_unscaled)"
      ]
    },
    {
      "cell_type": "code",
      "execution_count": 20,
      "metadata": {
        "colab": {
          "base_uri": "https://localhost:8080/"
        },
        "id": "eMv99cIzLXef",
        "outputId": "eaa36d94-8662-4abb-fc3b-ce57a3719e0e"
      },
      "outputs": [
        {
          "output_type": "stream",
          "name": "stdout",
          "text": [
            "Finished fitting best model, total time: 3.76 s\n"
          ]
        }
      ],
      "source": [
        "from time import time\n",
        "ti = time()\n",
        "\n",
        "model = RandomForestClassifier(min_samples_leaf = 1, min_samples_split = 2, n_estimators = 200)\n",
        "model.fit(X_train, y_train1)\n",
        "\n",
        "dt = time() - ti\n",
        "print(f'Finished fitting best model, total time: {dt:0.2f} s')"
      ]
    },
    {
      "cell_type": "code",
      "execution_count": 21,
      "metadata": {
        "id": "Xkemso-9gZwo"
      },
      "outputs": [],
      "source": [
        "# #save model\n",
        "# from joblib import dump, load\n",
        "# dump(model, '/content/drive/MyDrive/jupyter/2D/save_model/oliynyk_RandomForestClassifier_HPO.joblib') \n",
        "# #load model\n",
        "# # model = load('/content/drive/MyDrive/jupyter/2D/save_model/oliynyk_ExtraTreesRegressor.joblib') "
      ]
    },
    {
      "cell_type": "code",
      "execution_count": 22,
      "metadata": {
        "colab": {
          "base_uri": "https://localhost:8080/"
        },
        "id": "zIovC0czInVg",
        "outputId": "d4c0c559-fe82-4898-c7fb-6c1bf2f0af97"
      },
      "outputs": [
        {
          "output_type": "stream",
          "name": "stdout",
          "text": [
            "r2: 0.1370\n",
            "mae: 0.2157\n",
            "rmse: 0.4645\n"
          ]
        }
      ],
      "source": [
        "y_act_test = y_test\n",
        "y_pred_test = model.predict(X_test)\n",
        "\n",
        "r2 = r2_score(y_act_test, y_pred_test)\n",
        "mae = mean_absolute_error(y_act_test, y_pred_test)\n",
        "rmse = mean_squared_error(y_act_test, y_pred_test, squared=False)\n",
        "print(f'r2: {r2:0.4f}')\n",
        "print(f'mae: {mae:0.4f}')\n",
        "print(f'rmse: {rmse:0.4f}')\n"
      ]
    },
    {
      "cell_type": "code",
      "execution_count": 23,
      "metadata": {
        "colab": {
          "base_uri": "https://localhost:8080/",
          "height": 421
        },
        "id": "P0qNPaDqa45U",
        "outputId": "2e5d5807-1075-4a7e-e763-2bfec5816822"
      },
      "outputs": [
        {
          "output_type": "execute_result",
          "data": {
            "text/plain": [
              "<matplotlib.legend.Legend at 0x7fc22b96ae10>"
            ]
          },
          "metadata": {},
          "execution_count": 23
        },
        {
          "output_type": "display_data",
          "data": {
            "text/plain": [
              "<Figure size 432x432 with 1 Axes>"
            ],
            "image/png": "[encoded data removed]"
          },
          "metadata": {
            "image/png": {
              "width": 377,
              "height": 386
            },
            "needs_background": "light"
          }
        }
      ],
      "source": [
        "reg_line=True # set true or false\n",
        "xy_max = np.max([np.max(y_act_test), np.max(y_pred_test)])\n",
        "\n",
        "plot = plt.figure(figsize=(6,6))\n",
        "plt.plot(y_act_test, y_pred_test, 'o', ms=9, mec='k', mfc='silver', alpha=0.4)\n",
        "plt.plot([0, xy_max], [0, xy_max], 'k--', label='ideal')\n",
        "if reg_line:\n",
        "    polyfit = np.polyfit(y_act_test, y_pred_test, deg=1)\n",
        "    reg_ys = np.poly1d(polyfit)(np.unique(y_act_test))\n",
        "    plt.plot(np.unique(y_act_test), reg_ys, alpha=0.8, label='linear fit')\n",
        "plt.axis('scaled')\n",
        "label=' '\n",
        "plt.xlabel(f'Actual {label}')\n",
        "plt.ylabel(f'Predicted {label}')\n",
        "plt.title(f'{type(model).__name__}, r2: {r2_score(y_act_test, y_pred_test):0.4f}')\n",
        "plt.legend(loc='upper left')\n"
      ]
    },
    {
      "cell_type": "markdown",
      "metadata": {
        "id": "S6MlkSZfdtEg"
      },
      "source": [
        "Saving final model"
      ]
    },
    {
      "cell_type": "code",
      "execution_count": 24,
      "metadata": {
        "id": "sA29bWDyaDRQ"
      },
      "outputs": [],
      "source": [
        "scaler = StandardScaler()\n",
        "\n",
        "X_train0 = scaler.fit_transform(X_train_unscaled0)\n",
        "# X_val = scaler.transform(X_val_unscaled)\n",
        "# X_test = scaler.transform(X_test_unscaled)"
      ]
    },
    {
      "cell_type": "code",
      "execution_count": 15,
      "metadata": {
        "colab": {
          "base_uri": "https://localhost:8080/"
        },
        "id": "IM4Tc-mSePjB",
        "outputId": "f078a38a-c87b-42a7-e7a6-75985b594476"
      },
      "outputs": [
        {
          "output_type": "stream",
          "name": "stdout",
          "text": [
            "Finished fitting best model, total time: 1.94 s\n"
          ]
        }
      ],
      "source": [
        "from time import time\n",
        "ti = time()\n",
        "\n",
        "# model = RandomForestClassifier()\n",
        "model.fit(X_train0, y_train0)\n",
        "\n",
        "dt = time() - ti\n",
        "print(f'Finished fitting best model, total time: {dt:0.2f} s')"
      ]
    },
    {
      "cell_type": "code",
      "execution_count": 16,
      "metadata": {
        "id": "F7L0bvqpeWZg"
      },
      "outputs": [],
      "source": [
        "# save model\n",
        "from joblib import dump, load\n",
        "# dump(model, '../save_model/gap_oliynyk_RandomForestClassifier_full_HPO.joblib') \n",
        "#load model\n",
        "# model = load('/content/drive/MyDrive/jupyter/SuperCon/save_model/oliynyk_ExtraTreesRegressor_full.joblib') "
      ]
    },
    {
      "cell_type": "code",
      "execution_count": 17,
      "metadata": {
        "id": "lIMuk_nNoFXW"
      },
      "outputs": [],
      "source": [
        "model = RandomForestClassifier()"
      ]
    },
    {
      "cell_type": "code",
      "execution_count": 18,
      "metadata": {
        "colab": {
          "base_uri": "https://localhost:8080/"
        },
        "id": "xCxOajgV4v7A",
        "outputId": "cd98716a-b3ab-417c-8f17-752f1ff143ab"
      },
      "outputs": [
        {
          "output_type": "stream",
          "name": "stdout",
          "text": [
            "987.9904386997223\n"
          ]
        },
        {
          "output_type": "execute_result",
          "data": {
            "text/plain": [
              "{'min_samples_leaf': 1, 'min_samples_split': 2, 'n_estimators': 200}"
            ]
          },
          "metadata": {},
          "execution_count": 18
        }
      ],
      "source": [
        "from sklearn.model_selection import GridSearchCV\n",
        "from time import time\n",
        "params = [{'min_samples_leaf': [1,2,3,4],\n",
        "         'min_samples_split': [2,3,4],\n",
        "         'n_estimators': [i for i in range(50,400,50)]}]\n",
        "gs_model = GridSearchCV(model,\n",
        "                      param_grid=params,\n",
        "                      scoring='r2',\n",
        "                      cv=5)\n",
        "ti = time ()\n",
        "gs_model.fit(X_train, y_train1)\n",
        "dt = time() -ti\n",
        "print(dt)\n",
        "gs_model.best_params_"
      ]
    },
    {
      "cell_type": "code",
      "execution_count": 19,
      "metadata": {
        "colab": {
          "base_uri": "https://localhost:8080/"
        },
        "id": "ViiY_WOM5FJA",
        "outputId": "56a4acd6-7e81-493f-ecf8-d438393faa96"
      },
      "outputs": [
        {
          "output_type": "execute_result",
          "data": {
            "text/plain": [
              "1.0"
            ]
          },
          "metadata": {},
          "execution_count": 19
        }
      ],
      "source": [
        "# find best model score\n",
        "gs_model.score(X_train, y_train1)"
      ]
    },
    {
      "cell_type": "code",
      "execution_count": 19,
      "metadata": {
        "id": "sTRXGw9sNNjO"
      },
      "outputs": [],
      "source": [
        ""
      ]
    }
  ],
  "metadata": {
    "colab": {
      "collapsed_sections": [],
      "name": "3-oliynyk_RFC_HPO_PDS_class.ipynb",
      "provenance": []
    },
    "kernelspec": {
      "display_name": "Python 3 (ipykernel)",
      "language": "python",
      "name": "python3"
    },
    "language_info": {
      "codemirror_mode": {
        "name": "ipython",
        "version": 3
      },
      "file_extension": ".py",
      "mimetype": "text/x-python",
      "name": "python",
      "nbconvert_exporter": "python",
      "pygments_lexer": "ipython3",
      "version": "3.8.13"
    }
  },
  "nbformat": 4,
  "nbformat_minor": 0
}